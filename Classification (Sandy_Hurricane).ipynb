{
 "cells": [
  {
   "cell_type": "code",
   "execution_count": 1,
   "id": "7762da81",
   "metadata": {},
   "outputs": [
    {
     "name": "stderr",
     "output_type": "stream",
     "text": [
      "[nltk_data] Downloading package stopwords to\n",
      "[nltk_data]     C:\\Users\\hp\\AppData\\Roaming\\nltk_data...\n",
      "[nltk_data]   Package stopwords is already up-to-date!\n",
      "[nltk_data] Downloading package punkt to\n",
      "[nltk_data]     C:\\Users\\hp\\AppData\\Roaming\\nltk_data...\n",
      "[nltk_data]   Package punkt is already up-to-date!\n"
     ]
    }
   ],
   "source": [
    "import pandas as pd\n",
    "import re\n",
    "import numpy as np\n",
    "import nltk\n",
    "nltk.download('stopwords')\n",
    "nltk.download('punkt')\n",
    "from nltk.tokenize import word_tokenize\n",
    "from nltk.corpus import stopwords\n",
    "from nltk.stem import PorterStemmer\n",
    "import string\n",
    "from nltk.stem import WordNetLemmatizer\n",
    "from wordcloud import WordCloud\n",
    "from sklearn.preprocessing import LabelEncoder\n",
    "from sklearn.metrics import roc_curve, auc\n",
    "from sklearn.metrics import confusion_matrix"
   ]
  },
  {
   "cell_type": "code",
   "execution_count": 2,
   "id": "dc7ddcde",
   "metadata": {},
   "outputs": [],
   "source": [
    "import seaborn as sns\n",
    "import matplotlib.pyplot as plt"
   ]
  },
  {
   "cell_type": "code",
   "execution_count": 3,
   "id": "d09af695",
   "metadata": {},
   "outputs": [],
   "source": [
    "from sklearn.model_selection import train_test_split\n",
    "from sklearn.svm import SVC\n",
    "from sklearn.metrics import accuracy_score, classification_report\n",
    "from sklearn.neighbors import KNeighborsClassifier\n",
    "from sklearn.naive_bayes import GaussianNB, MultinomialNB, BernoulliNB\n",
    "from sklearn.tree import DecisionTreeClassifier\n",
    "from sklearn.ensemble import RandomForestClassifier\n",
    "from sklearn.ensemble import VotingClassifier"
   ]
  },
  {
   "cell_type": "code",
   "execution_count": 4,
   "id": "99697c2c",
   "metadata": {},
   "outputs": [
    {
     "name": "stderr",
     "output_type": "stream",
     "text": [
      "c:\\Users\\hp\\anaconda3\\lib\\site-packages\\paramiko\\transport.py:219: CryptographyDeprecationWarning: Blowfish has been deprecated\n",
      "  \"class\": algorithms.Blowfish,\n"
     ]
    }
   ],
   "source": [
    "from sklearn.feature_extraction.text import CountVectorizer\n",
    "from sklearn.feature_extraction.text import TfidfVectorizer\n",
    "from gensim.models import Word2Vec\n",
    "import gzip\n",
    "from gensim.models import KeyedVectors"
   ]
  },
  {
   "cell_type": "markdown",
   "id": "215cabb9",
   "metadata": {},
   "source": [
    "Sandy_Hurricane Dataset"
   ]
  },
  {
   "cell_type": "code",
   "execution_count": 5,
   "id": "5f212656",
   "metadata": {},
   "outputs": [],
   "source": [
    "data = pd.read_csv('2012_Sandy_Hurricane-ontopic_offtopic.csv')"
   ]
  },
  {
   "cell_type": "code",
   "execution_count": 6,
   "id": "4c6cb9ce",
   "metadata": {},
   "outputs": [
    {
     "data": {
      "text/html": [
       "<div>\n",
       "<style scoped>\n",
       "    .dataframe tbody tr th:only-of-type {\n",
       "        vertical-align: middle;\n",
       "    }\n",
       "\n",
       "    .dataframe tbody tr th {\n",
       "        vertical-align: top;\n",
       "    }\n",
       "\n",
       "    .dataframe thead th {\n",
       "        text-align: right;\n",
       "    }\n",
       "</style>\n",
       "<table border=\"1\" class=\"dataframe\">\n",
       "  <thead>\n",
       "    <tr style=\"text-align: right;\">\n",
       "      <th></th>\n",
       "      <th>tweet id</th>\n",
       "      <th>tweet</th>\n",
       "      <th>label</th>\n",
       "    </tr>\n",
       "  </thead>\n",
       "  <tbody>\n",
       "    <tr>\n",
       "      <th>0</th>\n",
       "      <td>'262596552399396864'</td>\n",
       "      <td>I've got enough candles to supply a Mexican fa...</td>\n",
       "      <td>off-topic</td>\n",
       "    </tr>\n",
       "    <tr>\n",
       "      <th>1</th>\n",
       "      <td>'263044104500420609'</td>\n",
       "      <td>Sandy be soooo mad that she be shattering our ...</td>\n",
       "      <td>on-topic</td>\n",
       "    </tr>\n",
       "    <tr>\n",
       "      <th>2</th>\n",
       "      <td>'263309629973491712'</td>\n",
       "      <td>@ibexgirl thankfully Hurricane Waugh played it...</td>\n",
       "      <td>off-topic</td>\n",
       "    </tr>\n",
       "    <tr>\n",
       "      <th>3</th>\n",
       "      <td>'263422851133079552'</td>\n",
       "      <td>@taos you never got that magnificent case of B...</td>\n",
       "      <td>off-topic</td>\n",
       "    </tr>\n",
       "    <tr>\n",
       "      <th>4</th>\n",
       "      <td>'262404311223504896'</td>\n",
       "      <td>I'm at Mad River Bar &amp;amp; Grille (New York, N...</td>\n",
       "      <td>off-topic</td>\n",
       "    </tr>\n",
       "  </tbody>\n",
       "</table>\n",
       "</div>"
      ],
      "text/plain": [
       "               tweet id                                              tweet  \\\n",
       "0  '262596552399396864'  I've got enough candles to supply a Mexican fa...   \n",
       "1  '263044104500420609'  Sandy be soooo mad that she be shattering our ...   \n",
       "2  '263309629973491712'  @ibexgirl thankfully Hurricane Waugh played it...   \n",
       "3  '263422851133079552'  @taos you never got that magnificent case of B...   \n",
       "4  '262404311223504896'  I'm at Mad River Bar &amp; Grille (New York, N...   \n",
       "\n",
       "       label  \n",
       "0  off-topic  \n",
       "1   on-topic  \n",
       "2  off-topic  \n",
       "3  off-topic  \n",
       "4  off-topic  "
      ]
     },
     "execution_count": 6,
     "metadata": {},
     "output_type": "execute_result"
    }
   ],
   "source": [
    "data.head()"
   ]
  },
  {
   "cell_type": "code",
   "execution_count": 7,
   "id": "7a9a948b",
   "metadata": {},
   "outputs": [
    {
     "data": {
      "text/plain": [
       "(10008, 3)"
      ]
     },
     "execution_count": 7,
     "metadata": {},
     "output_type": "execute_result"
    }
   ],
   "source": [
    "data.shape"
   ]
  },
  {
   "cell_type": "code",
   "execution_count": 8,
   "id": "bd571469",
   "metadata": {},
   "outputs": [
    {
     "name": "stdout",
     "output_type": "stream",
     "text": [
      "<class 'pandas.core.frame.DataFrame'>\n",
      "RangeIndex: 10008 entries, 0 to 10007\n",
      "Data columns (total 3 columns):\n",
      " #   Column    Non-Null Count  Dtype \n",
      "---  ------    --------------  ----- \n",
      " 0   tweet id  10008 non-null  object\n",
      " 1   tweet     10008 non-null  object\n",
      " 2   label     10008 non-null  object\n",
      "dtypes: object(3)\n",
      "memory usage: 234.7+ KB\n"
     ]
    }
   ],
   "source": [
    "data.info()"
   ]
  },
  {
   "cell_type": "code",
   "execution_count": 9,
   "id": "88ba4328",
   "metadata": {},
   "outputs": [
    {
     "data": {
      "text/plain": [
       "tweet id    0\n",
       "tweet       0\n",
       "label       0\n",
       "dtype: int64"
      ]
     },
     "execution_count": 9,
     "metadata": {},
     "output_type": "execute_result"
    }
   ],
   "source": [
    "data.isnull().sum()"
   ]
  },
  {
   "cell_type": "code",
   "execution_count": 10,
   "id": "d06b02c2",
   "metadata": {},
   "outputs": [
    {
     "data": {
      "text/plain": [
       "on-topic     6138\n",
       "off-topic    3870\n",
       "Name: label, dtype: int64"
      ]
     },
     "execution_count": 10,
     "metadata": {},
     "output_type": "execute_result"
    }
   ],
   "source": [
    "data['label'].value_counts()"
   ]
  },
  {
   "cell_type": "markdown",
   "id": "b128ce3a",
   "metadata": {},
   "source": [
    "<b>PREPROCESSING</b>"
   ]
  },
  {
   "cell_type": "code",
   "execution_count": 11,
   "id": "085a2db6",
   "metadata": {},
   "outputs": [],
   "source": [
    "punctuations = '!\"#$%&()*+,-./:;?@[]^_`{|}~\\''\n",
    "stop_words = set(stopwords.words('english'))\n",
    "stemmer = PorterStemmer()\n",
    "\n",
    "def preprocess(text):\n",
    "    # Remove mentions\n",
    "    text = re.sub(r'@[^\\s]+', '', text)\n",
    "    # Remove URLs\n",
    "    text = re.sub(r'http\\S+', '', text)\n",
    "    # Remove \"RT\" (Retweet)\n",
    "    text = re.sub(r'\\bRT\\b', '', text, flags=re.IGNORECASE)\n",
    "    text =re.sub(r'<.*?>',' ',text) #removal of html tags\n",
    "    text = re.sub('[^a-zA-Z]',' ',text) # filtering out miscellaneous text.\n",
    "    # Convert to lowercase\n",
    "    text = text.lower()\n",
    "    # Tokenize\n",
    "    text = text.split()\n",
    "    # Stem words\n",
    "    text = [stemmer.stem(word) for word in text if word not in stop_words]\n",
    "    # Remove stopwords and len<2\n",
    "    text = [word for word in text if len(word)>2]\n",
    "    # Join the words back into a single string\n",
    "    text = ' '.join(text)\n",
    "    # Remove punctuations\n",
    "    for p in punctuations:\n",
    "        text = text.replace(p, \" \")\n",
    "    # Stripping the end parts\n",
    "    text = text.strip()\n",
    "    return text"
   ]
  },
  {
   "cell_type": "code",
   "execution_count": 12,
   "id": "0d56d3e5",
   "metadata": {},
   "outputs": [],
   "source": [
    "data['cleaned_tweet'] = data['tweet'].apply(preprocess)"
   ]
  },
  {
   "cell_type": "code",
   "execution_count": 13,
   "id": "1bb3ec2e",
   "metadata": {},
   "outputs": [
    {
     "data": {
      "text/html": [
       "<div>\n",
       "<style scoped>\n",
       "    .dataframe tbody tr th:only-of-type {\n",
       "        vertical-align: middle;\n",
       "    }\n",
       "\n",
       "    .dataframe tbody tr th {\n",
       "        vertical-align: top;\n",
       "    }\n",
       "\n",
       "    .dataframe thead th {\n",
       "        text-align: right;\n",
       "    }\n",
       "</style>\n",
       "<table border=\"1\" class=\"dataframe\">\n",
       "  <thead>\n",
       "    <tr style=\"text-align: right;\">\n",
       "      <th></th>\n",
       "      <th>tweet id</th>\n",
       "      <th>tweet</th>\n",
       "      <th>label</th>\n",
       "      <th>cleaned_tweet</th>\n",
       "    </tr>\n",
       "  </thead>\n",
       "  <tbody>\n",
       "    <tr>\n",
       "      <th>0</th>\n",
       "      <td>'262596552399396864'</td>\n",
       "      <td>I've got enough candles to supply a Mexican fa...</td>\n",
       "      <td>off-topic</td>\n",
       "      <td>got enough candl suppli mexican famili</td>\n",
       "    </tr>\n",
       "    <tr>\n",
       "      <th>1</th>\n",
       "      <td>'263044104500420609'</td>\n",
       "      <td>Sandy be soooo mad that she be shattering our ...</td>\n",
       "      <td>on-topic</td>\n",
       "      <td>sandi soooo mad shatter door shiet hurricanesandi</td>\n",
       "    </tr>\n",
       "    <tr>\n",
       "      <th>2</th>\n",
       "      <td>'263309629973491712'</td>\n",
       "      <td>@ibexgirl thankfully Hurricane Waugh played it...</td>\n",
       "      <td>off-topic</td>\n",
       "      <td>thank hurrican waugh play cool wait one readi ...</td>\n",
       "    </tr>\n",
       "    <tr>\n",
       "      <th>3</th>\n",
       "      <td>'263422851133079552'</td>\n",
       "      <td>@taos you never got that magnificent case of B...</td>\n",
       "      <td>off-topic</td>\n",
       "      <td>never got magnific case burgundi sent thank tweet</td>\n",
       "    </tr>\n",
       "    <tr>\n",
       "      <th>4</th>\n",
       "      <td>'262404311223504896'</td>\n",
       "      <td>I'm at Mad River Bar &amp;amp; Grille (New York, N...</td>\n",
       "      <td>off-topic</td>\n",
       "      <td>mad river bar amp grill new york</td>\n",
       "    </tr>\n",
       "  </tbody>\n",
       "</table>\n",
       "</div>"
      ],
      "text/plain": [
       "               tweet id                                              tweet  \\\n",
       "0  '262596552399396864'  I've got enough candles to supply a Mexican fa...   \n",
       "1  '263044104500420609'  Sandy be soooo mad that she be shattering our ...   \n",
       "2  '263309629973491712'  @ibexgirl thankfully Hurricane Waugh played it...   \n",
       "3  '263422851133079552'  @taos you never got that magnificent case of B...   \n",
       "4  '262404311223504896'  I'm at Mad River Bar &amp; Grille (New York, N...   \n",
       "\n",
       "       label                                      cleaned_tweet  \n",
       "0  off-topic             got enough candl suppli mexican famili  \n",
       "1   on-topic  sandi soooo mad shatter door shiet hurricanesandi  \n",
       "2  off-topic  thank hurrican waugh play cool wait one readi ...  \n",
       "3  off-topic  never got magnific case burgundi sent thank tweet  \n",
       "4  off-topic                   mad river bar amp grill new york  "
      ]
     },
     "execution_count": 13,
     "metadata": {},
     "output_type": "execute_result"
    }
   ],
   "source": [
    "data.head()"
   ]
  },
  {
   "cell_type": "code",
   "execution_count": 14,
   "id": "a0512fdf",
   "metadata": {},
   "outputs": [
    {
     "data": {
      "image/png": "[encoded data removed]",
      "text/plain": [
       "<Figure size 432x288 with 1 Axes>"
      ]
     },
     "metadata": {
      "needs_background": "light"
     },
     "output_type": "display_data"
    }
   ],
   "source": [
    "wc = WordCloud(background_color='black')\n",
    "wc.generate(' '.join(data['cleaned_tweet']))\n",
    "plt.imshow(wc, interpolation=\"bilinear\")\n",
    "plt.axis('off')\n",
    "plt.show()"
   ]
  },
  {
   "cell_type": "code",
   "execution_count": 15,
   "id": "03484e87",
   "metadata": {},
   "outputs": [],
   "source": [
    "def top_ngrams(data,n,grams):\n",
    "    '''\n",
    "    Input:- Data: Input Data\n",
    "            n   : Number of top n-words\n",
    "            grams:Type of N-grams. 1-> Unigram  2-> Bigram  3->Trigram\n",
    "            \n",
    "    Output: Word Frequency of top  n words\n",
    "    \n",
    "    '''\n",
    "    if grams == 1:\n",
    "        count_vec = CountVectorizer(ngram_range=(1,1)).fit(data)\n",
    "        bow = count_vec.transform(data)\n",
    "        add_words = bow.sum(axis=0)\n",
    "        word_freq = [(word, add_words[0, idx]) for word, idx in count_vec.vocabulary_.items()]\n",
    "        word_freq = sorted(word_freq, key = lambda x: x[1], reverse=True)\n",
    "    elif grams == 2:\n",
    "        count_vec = CountVectorizer(ngram_range=(2,2)).fit(data)\n",
    "        bow = count_vec.transform(data)\n",
    "        add_words = bow.sum(axis=0)\n",
    "        word_freq = [(word,add_words[0,idx]) for word,idx in count_vec.vocabulary_.items()]\n",
    "        word_freq = sorted(word_freq, key = lambda x: x[1], reverse=True)\n",
    "    elif grams == 3:\n",
    "        count_vec = CountVectorizer(ngram_range=(3,3)).fit(data)\n",
    "        bow = count_vec.transform(data)\n",
    "        add_words = bow.sum(axis=0)\n",
    "        word_freq = [(word,add_words[0,idx]) for word,idx in count_vec.vocabulary_.items()]\n",
    "        word_freq = sorted(word_freq, key = lambda x: x[1], reverse=True)\n",
    "\n",
    "    return word_freq[:n]"
   ]
  },
  {
   "cell_type": "code",
   "execution_count": 16,
   "id": "bc905aea",
   "metadata": {},
   "outputs": [],
   "source": [
    "common_words_uni = top_ngrams(data[\"cleaned_tweet\"],20,1)\n",
    "common_words_bi = top_ngrams(data[\"cleaned_tweet\"],20,2)\n",
    "common_words_tri = top_ngrams(data[\"cleaned_tweet\"],20,3)\n",
    "common_words_uni_df = pd.DataFrame(common_words_uni,columns=['word','freq'])\n",
    "common_words_bi_df = pd.DataFrame(common_words_bi,columns=['word','freq'])\n",
    "common_words_tri_df = pd.DataFrame(common_words_tri,columns=['word','freq'])"
   ]
  },
  {
   "cell_type": "code",
   "execution_count": 17,
   "id": "7ab7cbd3",
   "metadata": {},
   "outputs": [
    {
     "name": "stderr",
     "output_type": "stream",
     "text": [
      "C:\\Users\\hp\\AppData\\Local\\Temp\\ipykernel_45524\\2581377941.py:6: UserWarning: FixedFormatter should only be used together with FixedLocator\n",
      "  ax1.set_xticklabels(rotation=90,labels=common_words_uni_df[\"word\"],fontsize=10)\n",
      "C:\\Users\\hp\\AppData\\Local\\Temp\\ipykernel_45524\\2581377941.py:12: UserWarning: FixedFormatter should only be used together with FixedLocator\n",
      "  ax2.set_xticklabels(rotation=90,labels=common_words_bi_df[\"word\"],fontsize=10)\n",
      "C:\\Users\\hp\\AppData\\Local\\Temp\\ipykernel_45524\\2581377941.py:18: UserWarning: FixedFormatter should only be used together with FixedLocator\n",
      "  ax3.set_xticklabels(rotation=90,labels=common_words_tri_df[\"word\"],fontsize=10)\n"
     ]
    },
    {
     "data": {
      "image/png": "[encoded data removed]",
      "text/plain": [
       "<Figure size 1080x1440 with 3 Axes>"
      ]
     },
     "metadata": {
      "needs_background": "light"
     },
     "output_type": "display_data"
    }
   ],
   "source": [
    "fig,(ax1,ax2,ax3) = plt.subplots(3,1,figsize=(15,20))\n",
    "ax1.bar(common_words_uni_df[\"word\"],common_words_uni_df[\"freq\"],color=\"#FFCCCB\",edgecolor='black', linewidth=1.2)\n",
    "ax1.set_title(\"Top 20 Unigrams in Text.\")\n",
    "ax1.set_xlabel(\"Words\")\n",
    "ax1.set_ylabel(\"Frequency\")\n",
    "ax1.set_xticklabels(rotation=90,labels=common_words_uni_df[\"word\"],fontsize=10)  \n",
    "\n",
    "ax2.bar(common_words_bi_df[\"word\"],common_words_bi_df[\"freq\"],color=\"lightblue\",edgecolor='black', linewidth=1.2)\n",
    "ax2.set_title(\"Top 20 Bigrams in Text.\")\n",
    "ax2.set_xlabel(\"Words\")\n",
    "ax2.set_ylabel(\"Frequency\")\n",
    "ax2.set_xticklabels(rotation=90,labels=common_words_bi_df[\"word\"],fontsize=10)\n",
    "\n",
    "ax3.bar(common_words_tri_df[\"word\"],common_words_tri_df[\"freq\"] ,color=\"lightgreen\",edgecolor='black', linewidth=1.2)\n",
    "ax3.set_title(\"Top 20 Trigrams in Text.\")\n",
    "ax3.set_xlabel(\"Words\")\n",
    "ax3.set_ylabel(\"Frequency\")\n",
    "ax3.set_xticklabels(rotation=90,labels=common_words_tri_df[\"word\"],fontsize=10) \n",
    "plt.suptitle(\"Visualization of Top 20 Unigrams, Bigrams and Trigrams\",fontsize=\"15\")\n",
    "plt.tight_layout(pad=1.85)\n",
    "plt.show()"
   ]
  },
  {
   "cell_type": "code",
   "execution_count": 18,
   "id": "4492b781",
   "metadata": {},
   "outputs": [],
   "source": [
    "encoder = LabelEncoder()\n",
    "data['label'] = encoder.fit_transform(data['label'])"
   ]
  },
  {
   "cell_type": "code",
   "execution_count": 19,
   "id": "f420689e",
   "metadata": {},
   "outputs": [
    {
     "name": "stdout",
     "output_type": "stream",
     "text": [
      "{'off-topic': 0, 'on-topic': 1}\n"
     ]
    }
   ],
   "source": [
    "label_mapping = dict(zip(encoder.classes_, encoder.transform(encoder.classes_)))\n",
    "print(label_mapping)"
   ]
  },
  {
   "cell_type": "code",
   "execution_count": 20,
   "id": "62859385",
   "metadata": {},
   "outputs": [],
   "source": [
    "def encoding(train_data,bow,tf_idf):\n",
    "    '''\n",
    "    Input : Data to be encoded and choice of encoding.\n",
    "    Output : Desired Encoding.\n",
    "    \n",
    "    '''\n",
    "    if bow==True: \n",
    "        cv = CountVectorizer(ngram_range=(1, 1))\n",
    "        cv_df = cv.fit_transform(train_data).toarray()\n",
    "        vectorized_df = pd.DataFrame(cv_df,columns=cv.get_feature_names())\n",
    "        \n",
    "    elif tf_idf==True:\n",
    "        \n",
    "        tfidf = TfidfVectorizer(\n",
    "            ngram_range=(1, 1), use_idf=1,smooth_idf=1,sublinear_tf=1)    \n",
    "        tf_df = tfidf.fit_transform(train_data).toarray()\n",
    "        vectorized_df = pd.DataFrame(tf_df,columns=tfidf.get_feature_names())\n",
    "        \n",
    "    return vectorized_df"
   ]
  },
  {
   "cell_type": "code",
   "execution_count": 21,
   "id": "cf7dc38d",
   "metadata": {},
   "outputs": [
    {
     "name": "stderr",
     "output_type": "stream",
     "text": [
      "c:\\Users\\hp\\anaconda3\\lib\\site-packages\\sklearn\\utils\\deprecation.py:87: FutureWarning: Function get_feature_names is deprecated; get_feature_names is deprecated in 1.0 and will be removed in 1.2. Please use get_feature_names_out instead.\n",
      "  warnings.warn(msg, category=FutureWarning)\n"
     ]
    }
   ],
   "source": [
    "x_bow = encoding(data[\"cleaned_tweet\"],bow=True,tf_idf=False)"
   ]
  },
  {
   "cell_type": "code",
   "execution_count": 22,
   "id": "35acf251",
   "metadata": {},
   "outputs": [],
   "source": [
    "y = data[\"label\"]"
   ]
  },
  {
   "cell_type": "code",
   "execution_count": 23,
   "id": "60e341bd",
   "metadata": {},
   "outputs": [],
   "source": [
    "y_final = np.array(y) # Converting y to array"
   ]
  },
  {
   "cell_type": "code",
   "execution_count": 24,
   "id": "1995131e",
   "metadata": {},
   "outputs": [
    {
     "data": {
      "text/plain": [
       "((10008, 8743), (10008,))"
      ]
     },
     "execution_count": 24,
     "metadata": {},
     "output_type": "execute_result"
    }
   ],
   "source": [
    "x_bow.shape,y_final.shape"
   ]
  },
  {
   "cell_type": "code",
   "execution_count": 25,
   "id": "865ae3a6",
   "metadata": {},
   "outputs": [],
   "source": [
    "X_train, X_test, y_train, y_test = train_test_split(x_bow, y_final, test_size=0.2, random_state=42, stratify = y_final)"
   ]
  },
  {
   "cell_type": "markdown",
   "id": "eecb2e78",
   "metadata": {},
   "source": [
    "<b>Classification using BoW</b>\n",
    "1. SVM"
   ]
  },
  {
   "cell_type": "code",
   "execution_count": 26,
   "id": "6a233b05",
   "metadata": {},
   "outputs": [],
   "source": [
    "svm_bow = SVC(kernel='linear')\n",
    "svm_bow.fit(X_train, y_train)\n",
    "y_pred_b1 = svm_bow.predict(X_test)"
   ]
  },
  {
   "cell_type": "code",
   "execution_count": 27,
   "id": "61f6a17c",
   "metadata": {},
   "outputs": [
    {
     "name": "stdout",
     "output_type": "stream",
     "text": [
      "Accuracy: 0.92\n"
     ]
    }
   ],
   "source": [
    "accuracy_b1 = accuracy_score(y_test, y_pred_b1)\n",
    "print(f\"Accuracy: {accuracy_b1:.2f}\")"
   ]
  },
  {
   "cell_type": "code",
   "execution_count": 28,
   "id": "aeb878f6",
   "metadata": {
    "scrolled": true
   },
   "outputs": [
    {
     "name": "stdout",
     "output_type": "stream",
     "text": [
      "              precision    recall  f1-score   support\n",
      "\n",
      "           0       0.91      0.89      0.90       774\n",
      "           1       0.93      0.94      0.94      1228\n",
      "\n",
      "    accuracy                           0.92      2002\n",
      "   macro avg       0.92      0.91      0.92      2002\n",
      "weighted avg       0.92      0.92      0.92      2002\n",
      "\n"
     ]
    }
   ],
   "source": [
    "report = classification_report(y_test, y_pred_b1)\n",
    "print(report)"
   ]
  },
  {
   "cell_type": "code",
   "execution_count": 29,
   "id": "2600673f",
   "metadata": {},
   "outputs": [
    {
     "data": {
      "image/png": "[encoded data removed]",
      "text/plain": [
       "<Figure size 576x432 with 1 Axes>"
      ]
     },
     "metadata": {
      "needs_background": "light"
     },
     "output_type": "display_data"
    }
   ],
   "source": [
    "conf_matrix = confusion_matrix(y_test, y_pred_b1)\n",
    "\n",
    "# Plotting the confusion matrix as a heatmap\n",
    "plt.figure(figsize=(8, 6))\n",
    "sns.heatmap(conf_matrix, annot=True, fmt=\"d\", cmap=\"Blues\", cbar=False)\n",
    "plt.xlabel('Predicted labels')\n",
    "plt.ylabel('True labels')\n",
    "plt.title('Confusion Matrix')\n",
    "plt.show()"
   ]
  },
  {
   "cell_type": "code",
   "execution_count": null,
   "id": "a50de62b",
   "metadata": {},
   "outputs": [],
   "source": []
  },
  {
   "cell_type": "markdown",
   "id": "5c250373",
   "metadata": {},
   "source": [
    "2. KNN"
   ]
  },
  {
   "cell_type": "code",
   "execution_count": 30,
   "id": "7b51ef82",
   "metadata": {},
   "outputs": [
    {
     "data": {
      "text/plain": [
       "KNeighborsClassifier(n_neighbors=40)"
      ]
     },
     "execution_count": 30,
     "metadata": {},
     "output_type": "execute_result"
    }
   ],
   "source": [
    "knn_bow = KNeighborsClassifier(n_neighbors=40)\n",
    "knn_bow.fit(X_train, y_train)"
   ]
  },
  {
   "cell_type": "code",
   "execution_count": 31,
   "id": "4d92e941",
   "metadata": {},
   "outputs": [
    {
     "name": "stderr",
     "output_type": "stream",
     "text": [
      "c:\\Users\\hp\\anaconda3\\lib\\site-packages\\sklearn\\neighbors\\_classification.py:228: FutureWarning: Unlike other reduction functions (e.g. `skew`, `kurtosis`), the default behavior of `mode` typically preserves the axis it acts along. In SciPy 1.11.0, this behavior will change: the default value of `keepdims` will become False, the `axis` over which the statistic is taken will be eliminated, and the value None will no longer be accepted. Set `keepdims` to True or False to avoid this warning.\n",
      "  mode, _ = stats.mode(_y[neigh_ind, k], axis=1)\n"
     ]
    }
   ],
   "source": [
    "y_pred_b2 = knn_bow.predict(X_test)"
   ]
  },
  {
   "cell_type": "code",
   "execution_count": 32,
   "id": "f5d0787c",
   "metadata": {},
   "outputs": [
    {
     "name": "stdout",
     "output_type": "stream",
     "text": [
      "Accuracy: 0.89\n"
     ]
    }
   ],
   "source": [
    "accuracy_b2 = accuracy_score(y_test, y_pred_b2)\n",
    "print(f\"Accuracy: {accuracy_b2:.2f}\")"
   ]
  },
  {
   "cell_type": "code",
   "execution_count": 33,
   "id": "3300ea80",
   "metadata": {
    "scrolled": true
   },
   "outputs": [
    {
     "name": "stdout",
     "output_type": "stream",
     "text": [
      "              precision    recall  f1-score   support\n",
      "\n",
      "           0       0.80      0.95      0.87       774\n",
      "           1       0.96      0.85      0.90      1228\n",
      "\n",
      "    accuracy                           0.89      2002\n",
      "   macro avg       0.88      0.90      0.89      2002\n",
      "weighted avg       0.90      0.89      0.89      2002\n",
      "\n"
     ]
    }
   ],
   "source": [
    "report = classification_report(y_test, y_pred_b2)\n",
    "print(report)"
   ]
  },
  {
   "cell_type": "code",
   "execution_count": 34,
   "id": "9aa9a66e",
   "metadata": {},
   "outputs": [
    {
     "data": {
      "image/png": "[encoded data removed]",
      "text/plain": [
       "<Figure size 576x432 with 1 Axes>"
      ]
     },
     "metadata": {
      "needs_background": "light"
     },
     "output_type": "display_data"
    }
   ],
   "source": [
    "conf_matrix = confusion_matrix(y_test, y_pred_b2)\n",
    "\n",
    "# Plotting the confusion matrix as a heatmap\n",
    "plt.figure(figsize=(8, 6))\n",
    "sns.heatmap(conf_matrix, annot=True, fmt=\"d\", cmap=\"Blues\", cbar=False)\n",
    "plt.xlabel('Predicted labels')\n",
    "plt.ylabel('True labels')\n",
    "plt.title('Confusion Matrix')\n",
    "plt.show()"
   ]
  },
  {
   "cell_type": "markdown",
   "id": "82b5d218",
   "metadata": {},
   "source": [
    "3. Naive Bayes"
   ]
  },
  {
   "cell_type": "code",
   "execution_count": 35,
   "id": "de333dcd",
   "metadata": {},
   "outputs": [
    {
     "data": {
      "text/plain": [
       "BernoulliNB()"
      ]
     },
     "execution_count": 35,
     "metadata": {},
     "output_type": "execute_result"
    }
   ],
   "source": [
    "nb_bow = BernoulliNB()\n",
    "nb_bow.fit(X_train, y_train)"
   ]
  },
  {
   "cell_type": "code",
   "execution_count": 36,
   "id": "17b4b1ba",
   "metadata": {},
   "outputs": [],
   "source": [
    "y_pred_b3 = nb_bow.predict(X_test)"
   ]
  },
  {
   "cell_type": "code",
   "execution_count": 37,
   "id": "30e4f6bf",
   "metadata": {},
   "outputs": [
    {
     "name": "stdout",
     "output_type": "stream",
     "text": [
      "Accuracy: 0.90\n"
     ]
    }
   ],
   "source": [
    "accuracy_b3 = accuracy_score(y_test, y_pred_b3)\n",
    "print(f\"Accuracy: {accuracy_b3:.2f}\")"
   ]
  },
  {
   "cell_type": "code",
   "execution_count": 38,
   "id": "23792c3a",
   "metadata": {
    "scrolled": true
   },
   "outputs": [
    {
     "name": "stdout",
     "output_type": "stream",
     "text": [
      "              precision    recall  f1-score   support\n",
      "\n",
      "           0       0.88      0.86      0.87       774\n",
      "           1       0.91      0.92      0.92      1228\n",
      "\n",
      "    accuracy                           0.90      2002\n",
      "   macro avg       0.89      0.89      0.89      2002\n",
      "weighted avg       0.90      0.90      0.90      2002\n",
      "\n"
     ]
    }
   ],
   "source": [
    "report = classification_report(y_test, y_pred_b3)\n",
    "print(report)"
   ]
  },
  {
   "cell_type": "code",
   "execution_count": 39,
   "id": "e105aa65",
   "metadata": {},
   "outputs": [
    {
     "data": {
      "image/png": "[encoded data removed]",
      "text/plain": [
       "<Figure size 576x432 with 1 Axes>"
      ]
     },
     "metadata": {
      "needs_background": "light"
     },
     "output_type": "display_data"
    }
   ],
   "source": [
    "conf_matrix = confusion_matrix(y_test, y_pred_b3)\n",
    "\n",
    "# Plotting the confusion matrix as a heatmap\n",
    "plt.figure(figsize=(8, 6))\n",
    "sns.heatmap(conf_matrix, annot=True, fmt=\"d\", cmap=\"Blues\", cbar=False)\n",
    "plt.xlabel('Predicted labels')\n",
    "plt.ylabel('True labels')\n",
    "plt.title('Confusion Matrix')\n",
    "plt.show()"
   ]
  },
  {
   "cell_type": "code",
   "execution_count": null,
   "id": "31b8708b",
   "metadata": {},
   "outputs": [],
   "source": []
  },
  {
   "cell_type": "markdown",
   "id": "e38d41c9",
   "metadata": {},
   "source": [
    "4. Decision Tree"
   ]
  },
  {
   "cell_type": "code",
   "execution_count": 40,
   "id": "28835dbf",
   "metadata": {},
   "outputs": [
    {
     "data": {
      "text/plain": [
       "DecisionTreeClassifier()"
      ]
     },
     "execution_count": 40,
     "metadata": {},
     "output_type": "execute_result"
    }
   ],
   "source": [
    "tree_bow = DecisionTreeClassifier()\n",
    "tree_bow.fit(X_train, y_train)"
   ]
  },
  {
   "cell_type": "code",
   "execution_count": 41,
   "id": "8572500b",
   "metadata": {},
   "outputs": [],
   "source": [
    "y_pred_b4 = tree_bow.predict(X_test)"
   ]
  },
  {
   "cell_type": "code",
   "execution_count": 42,
   "id": "6fe5b637",
   "metadata": {},
   "outputs": [
    {
     "name": "stdout",
     "output_type": "stream",
     "text": [
      "Accuracy: 0.91\n"
     ]
    }
   ],
   "source": [
    "accuracy_b4 = accuracy_score(y_test, y_pred_b4)\n",
    "print(f\"Accuracy: {accuracy_b4:.2f}\")"
   ]
  },
  {
   "cell_type": "code",
   "execution_count": 43,
   "id": "4de8b7fa",
   "metadata": {
    "scrolled": true
   },
   "outputs": [
    {
     "name": "stdout",
     "output_type": "stream",
     "text": [
      "              precision    recall  f1-score   support\n",
      "\n",
      "           0       0.89      0.89      0.89       774\n",
      "           1       0.93      0.93      0.93      1228\n",
      "\n",
      "    accuracy                           0.91      2002\n",
      "   macro avg       0.91      0.91      0.91      2002\n",
      "weighted avg       0.91      0.91      0.91      2002\n",
      "\n"
     ]
    }
   ],
   "source": [
    "report = classification_report(y_test, y_pred_b4)\n",
    "print(report)"
   ]
  },
  {
   "cell_type": "code",
   "execution_count": 44,
   "id": "d75c2f0b",
   "metadata": {},
   "outputs": [
    {
     "data": {
      "image/png": "[encoded data removed]",
      "text/plain": [
       "<Figure size 576x432 with 1 Axes>"
      ]
     },
     "metadata": {
      "needs_background": "light"
     },
     "output_type": "display_data"
    }
   ],
   "source": [
    "conf_matrix = confusion_matrix(y_test, y_pred_b4)\n",
    "\n",
    "# Plotting the confusion matrix as a heatmap\n",
    "plt.figure(figsize=(8, 6))\n",
    "sns.heatmap(conf_matrix, annot=True, fmt=\"d\", cmap=\"Blues\", cbar=False)\n",
    "plt.xlabel('Predicted labels')\n",
    "plt.ylabel('True labels')\n",
    "plt.title('Confusion Matrix')\n",
    "plt.show()"
   ]
  },
  {
   "cell_type": "code",
   "execution_count": null,
   "id": "68ce94a4",
   "metadata": {},
   "outputs": [],
   "source": []
  },
  {
   "cell_type": "markdown",
   "id": "ab064b19",
   "metadata": {},
   "source": [
    "Random Forest"
   ]
  },
  {
   "cell_type": "code",
   "execution_count": 45,
   "id": "11d0cb7d",
   "metadata": {},
   "outputs": [
    {
     "data": {
      "text/plain": [
       "RandomForestClassifier()"
      ]
     },
     "execution_count": 45,
     "metadata": {},
     "output_type": "execute_result"
    }
   ],
   "source": [
    "rf_bow = RandomForestClassifier()\n",
    "rf_bow.fit(X_train, y_train)"
   ]
  },
  {
   "cell_type": "code",
   "execution_count": 46,
   "id": "d2597942",
   "metadata": {},
   "outputs": [],
   "source": [
    "y_pred_b5 = rf_bow.predict(X_test)"
   ]
  },
  {
   "cell_type": "code",
   "execution_count": 47,
   "id": "bdf18ff9",
   "metadata": {},
   "outputs": [
    {
     "name": "stdout",
     "output_type": "stream",
     "text": [
      "Accuracy: 0.93\n"
     ]
    }
   ],
   "source": [
    "accuracy_b5 = accuracy_score(y_test, y_pred_b5)\n",
    "print(f\"Accuracy: {accuracy_b5:.2f}\")"
   ]
  },
  {
   "cell_type": "code",
   "execution_count": 48,
   "id": "14307a3f",
   "metadata": {},
   "outputs": [
    {
     "name": "stdout",
     "output_type": "stream",
     "text": [
      "              precision    recall  f1-score   support\n",
      "\n",
      "           0       0.92      0.90      0.91       774\n",
      "           1       0.94      0.95      0.94      1228\n",
      "\n",
      "    accuracy                           0.93      2002\n",
      "   macro avg       0.93      0.92      0.92      2002\n",
      "weighted avg       0.93      0.93      0.93      2002\n",
      "\n"
     ]
    }
   ],
   "source": [
    "report = classification_report(y_test, y_pred_b5)\n",
    "print(report)"
   ]
  },
  {
   "cell_type": "code",
   "execution_count": 49,
   "id": "9b1c6413",
   "metadata": {},
   "outputs": [
    {
     "data": {
      "image/png": "[encoded data removed]",
      "text/plain": [
       "<Figure size 576x432 with 1 Axes>"
      ]
     },
     "metadata": {
      "needs_background": "light"
     },
     "output_type": "display_data"
    }
   ],
   "source": [
    "conf_matrix = confusion_matrix(y_test, y_pred_b5)\n",
    "\n",
    "# Plotting the confusion matrix as a heatmap\n",
    "plt.figure(figsize=(8, 6))\n",
    "sns.heatmap(conf_matrix, annot=True, fmt=\"d\", cmap=\"Blues\", cbar=False)\n",
    "plt.xlabel('Predicted labels')\n",
    "plt.ylabel('True labels')\n",
    "plt.title('Confusion Matrix')\n",
    "plt.show()"
   ]
  },
  {
   "cell_type": "code",
   "execution_count": null,
   "id": "c9b806e0",
   "metadata": {},
   "outputs": [],
   "source": []
  },
  {
   "cell_type": "markdown",
   "id": "f6ac80b7",
   "metadata": {},
   "source": [
    "Accuracy Comparison"
   ]
  },
  {
   "cell_type": "code",
   "execution_count": 50,
   "id": "92843e66",
   "metadata": {},
   "outputs": [
    {
     "data": {
      "image/png": "[encoded data removed]",
      "text/plain": [
       "<Figure size 720x432 with 1 Axes>"
      ]
     },
     "metadata": {
      "needs_background": "light"
     },
     "output_type": "display_data"
    }
   ],
   "source": [
    "accuracies = [accuracy_b1, accuracy_b2, accuracy_b3, accuracy_b4, accuracy_b5]\n",
    "model_names = ['SVM', 'KNN', 'Naive Bayes', 'Decision Trees', 'Random Forest']\n",
    "\n",
    "# Plotting the accuracies\n",
    "plt.figure(figsize=(10, 6))\n",
    "plt.bar(model_names, accuracies, color='skyblue')\n",
    "plt.xlabel('Models')\n",
    "plt.ylabel('Accuracy')\n",
    "plt.title('Accuracy Comparison of Different Models')\n",
    "plt.ylim(0, 1)  # Set y-axis limit to 0-1 for accuracy\n",
    "plt.show()"
   ]
  },
  {
   "cell_type": "code",
   "execution_count": null,
   "id": "5ec75234",
   "metadata": {},
   "outputs": [],
   "source": []
  },
  {
   "cell_type": "code",
   "execution_count": 51,
   "id": "4ed1de35",
   "metadata": {},
   "outputs": [
    {
     "data": {
      "image/png": "[encoded data removed]",
      "text/plain": [
       "<Figure size 576x432 with 1 Axes>"
      ]
     },
     "metadata": {
      "needs_background": "light"
     },
     "output_type": "display_data"
    }
   ],
   "source": [
    "# Calculate ROC curve and AUC for each model\n",
    "\n",
    "fpr_svm, tpr_svm, _ = roc_curve(y_test, y_pred_b1)\n",
    "roc_auc_svm = auc(fpr_svm, tpr_svm)\n",
    "\n",
    "fpr_dt, tpr_dt, _ = roc_curve(y_test, y_pred_b4)\n",
    "roc_auc_dt = auc(fpr_dt, tpr_dt)\n",
    "\n",
    "fpr_nb, tpr_nb, _ = roc_curve(y_test, y_pred_b3)\n",
    "roc_auc_nb = auc(fpr_nb, tpr_nb)\n",
    "\n",
    "fpr_rf, tpr_rf, _ = roc_curve(y_test, y_pred_b5)\n",
    "roc_auc_rf = auc(fpr_rf, tpr_rf)\n",
    "\n",
    "fpr_knn, tpr_knn, _ = roc_curve(y_test, y_pred_b2)\n",
    "roc_auc_knn = auc(fpr_knn, tpr_knn)\n",
    "\n",
    "# Plotting ROC curves\n",
    "plt.figure(figsize=(8, 6))\n",
    "plt.plot(fpr_svm, tpr_svm, label=f'SVM (AUC = {roc_auc_svm:.2f})')\n",
    "plt.plot(fpr_dt, tpr_dt, label=f'Decision Tree (AUC = {roc_auc_dt:.2f})')\n",
    "plt.plot(fpr_nb, tpr_nb, label=f'Naive Bayes (AUC = {roc_auc_nb:.2f})')\n",
    "plt.plot(fpr_rf, tpr_rf, label=f'Random Forest (AUC = {roc_auc_rf:.2f})')\n",
    "plt.plot(fpr_knn, tpr_knn, label=f'KNN (AUC = {roc_auc_knn:.2f})')\n",
    "\n",
    "plt.plot([0, 1], [0, 1], linestyle='--', color='grey', label='Random')\n",
    "plt.xlabel('False Positive Rate')\n",
    "plt.ylabel('True Positive Rate')\n",
    "plt.title('ROC Curve for Different Models')\n",
    "plt.legend()\n",
    "plt.show()"
   ]
  },
  {
   "cell_type": "code",
   "execution_count": null,
   "id": "26fe5ebb",
   "metadata": {},
   "outputs": [],
   "source": []
  },
  {
   "cell_type": "code",
   "execution_count": null,
   "id": "136b2982",
   "metadata": {},
   "outputs": [],
   "source": []
  },
  {
   "cell_type": "markdown",
   "id": "5e9f5704",
   "metadata": {},
   "source": [
    "---"
   ]
  },
  {
   "cell_type": "markdown",
   "id": "304f1427",
   "metadata": {},
   "source": [
    "<b>Using TF-IDF</b>"
   ]
  },
  {
   "cell_type": "code",
   "execution_count": 52,
   "id": "26d0a09d",
   "metadata": {},
   "outputs": [
    {
     "name": "stderr",
     "output_type": "stream",
     "text": [
      "c:\\Users\\hp\\anaconda3\\lib\\site-packages\\sklearn\\utils\\deprecation.py:87: FutureWarning: Function get_feature_names is deprecated; get_feature_names is deprecated in 1.0 and will be removed in 1.2. Please use get_feature_names_out instead.\n",
      "  warnings.warn(msg, category=FutureWarning)\n"
     ]
    }
   ],
   "source": [
    "x_tfidf = encoding(data[\"cleaned_tweet\"],bow=False,tf_idf=True)"
   ]
  },
  {
   "cell_type": "code",
   "execution_count": 53,
   "id": "3d7f4662",
   "metadata": {},
   "outputs": [],
   "source": [
    "X_train, X_test, y_train, y_test = train_test_split(x_tfidf, y_final, test_size=0.2, random_state=42, stratify = y_final)"
   ]
  },
  {
   "cell_type": "markdown",
   "id": "77a38738",
   "metadata": {},
   "source": [
    "1. SVM"
   ]
  },
  {
   "cell_type": "code",
   "execution_count": 54,
   "id": "3ad0a718",
   "metadata": {},
   "outputs": [],
   "source": [
    "svm_tfidf = SVC(kernel='linear')\n",
    "svm_tfidf.fit(X_train, y_train)\n",
    "y_pred_t1 = svm_tfidf.predict(X_test)"
   ]
  },
  {
   "cell_type": "code",
   "execution_count": 55,
   "id": "319acfe9",
   "metadata": {},
   "outputs": [
    {
     "name": "stdout",
     "output_type": "stream",
     "text": [
      "Accuracy: 0.92\n"
     ]
    }
   ],
   "source": [
    "accuracy_t1 = accuracy_score(y_test, y_pred_t1)\n",
    "print(f\"Accuracy: {accuracy_t1:.2f}\")"
   ]
  },
  {
   "cell_type": "code",
   "execution_count": 56,
   "id": "88f7c4b1",
   "metadata": {},
   "outputs": [
    {
     "name": "stdout",
     "output_type": "stream",
     "text": [
      "              precision    recall  f1-score   support\n",
      "\n",
      "           0       0.90      0.90      0.90       774\n",
      "           1       0.94      0.94      0.94      1228\n",
      "\n",
      "    accuracy                           0.92      2002\n",
      "   macro avg       0.92      0.92      0.92      2002\n",
      "weighted avg       0.92      0.92      0.92      2002\n",
      "\n"
     ]
    }
   ],
   "source": [
    "report = classification_report(y_test, y_pred_t1)\n",
    "print(report)"
   ]
  },
  {
   "cell_type": "code",
   "execution_count": 57,
   "id": "8d97e7b9",
   "metadata": {},
   "outputs": [
    {
     "data": {
      "image/png": "[encoded data removed]",
      "text/plain": [
       "<Figure size 576x432 with 1 Axes>"
      ]
     },
     "metadata": {
      "needs_background": "light"
     },
     "output_type": "display_data"
    }
   ],
   "source": [
    "conf_matrix = confusion_matrix(y_test, y_pred_t1)\n",
    "\n",
    "# Plotting the confusion matrix as a heatmap\n",
    "plt.figure(figsize=(8, 6))\n",
    "sns.heatmap(conf_matrix, annot=True, fmt=\"d\", cmap=\"Blues\", cbar=False)\n",
    "plt.xlabel('Predicted labels')\n",
    "plt.ylabel('True labels')\n",
    "plt.title('Confusion Matrix')\n",
    "plt.show()"
   ]
  },
  {
   "cell_type": "code",
   "execution_count": null,
   "id": "ebd7211b",
   "metadata": {},
   "outputs": [],
   "source": []
  },
  {
   "cell_type": "markdown",
   "id": "5d721518",
   "metadata": {},
   "source": [
    "2. KNN"
   ]
  },
  {
   "cell_type": "code",
   "execution_count": 58,
   "id": "abf3296d",
   "metadata": {},
   "outputs": [
    {
     "data": {
      "text/plain": [
       "KNeighborsClassifier(n_neighbors=40)"
      ]
     },
     "execution_count": 58,
     "metadata": {},
     "output_type": "execute_result"
    }
   ],
   "source": [
    "knn_tfidf = KNeighborsClassifier(n_neighbors=40)\n",
    "knn_tfidf.fit(X_train, y_train)"
   ]
  },
  {
   "cell_type": "code",
   "execution_count": 59,
   "id": "b371e027",
   "metadata": {},
   "outputs": [
    {
     "name": "stderr",
     "output_type": "stream",
     "text": [
      "c:\\Users\\hp\\anaconda3\\lib\\site-packages\\sklearn\\neighbors\\_classification.py:228: FutureWarning: Unlike other reduction functions (e.g. `skew`, `kurtosis`), the default behavior of `mode` typically preserves the axis it acts along. In SciPy 1.11.0, this behavior will change: the default value of `keepdims` will become False, the `axis` over which the statistic is taken will be eliminated, and the value None will no longer be accepted. Set `keepdims` to True or False to avoid this warning.\n",
      "  mode, _ = stats.mode(_y[neigh_ind, k], axis=1)\n"
     ]
    }
   ],
   "source": [
    "y_pred_t2 = knn_tfidf.predict(X_test)"
   ]
  },
  {
   "cell_type": "code",
   "execution_count": 60,
   "id": "bd859a74",
   "metadata": {},
   "outputs": [
    {
     "name": "stdout",
     "output_type": "stream",
     "text": [
      "Accuracy: 0.76\n"
     ]
    }
   ],
   "source": [
    "accuracy_t2 = accuracy_score(y_test, y_pred_t2)\n",
    "print(f\"Accuracy: {accuracy_t2:.2f}\")"
   ]
  },
  {
   "cell_type": "code",
   "execution_count": 61,
   "id": "d2d9233f",
   "metadata": {},
   "outputs": [
    {
     "name": "stdout",
     "output_type": "stream",
     "text": [
      "              precision    recall  f1-score   support\n",
      "\n",
      "           0       0.77      0.53      0.63       774\n",
      "           1       0.75      0.90      0.82      1228\n",
      "\n",
      "    accuracy                           0.76      2002\n",
      "   macro avg       0.76      0.72      0.73      2002\n",
      "weighted avg       0.76      0.76      0.75      2002\n",
      "\n"
     ]
    }
   ],
   "source": [
    "report = classification_report(y_test, y_pred_t2)\n",
    "print(report)"
   ]
  },
  {
   "cell_type": "code",
   "execution_count": 62,
   "id": "e67458fa",
   "metadata": {},
   "outputs": [
    {
     "data": {
      "image/png": "[encoded data removed]",
      "text/plain": [
       "<Figure size 576x432 with 1 Axes>"
      ]
     },
     "metadata": {
      "needs_background": "light"
     },
     "output_type": "display_data"
    }
   ],
   "source": [
    "conf_matrix = confusion_matrix(y_test, y_pred_t2)\n",
    "\n",
    "# Plotting the confusion matrix as a heatmap\n",
    "plt.figure(figsize=(8, 6))\n",
    "sns.heatmap(conf_matrix, annot=True, fmt=\"d\", cmap=\"Blues\", cbar=False)\n",
    "plt.xlabel('Predicted labels')\n",
    "plt.ylabel('True labels')\n",
    "plt.title('Confusion Matrix')\n",
    "plt.show()"
   ]
  },
  {
   "cell_type": "code",
   "execution_count": null,
   "id": "8fda6826",
   "metadata": {},
   "outputs": [],
   "source": []
  },
  {
   "cell_type": "markdown",
   "id": "0b1789a3",
   "metadata": {},
   "source": [
    "3. Naive Bayes"
   ]
  },
  {
   "cell_type": "code",
   "execution_count": 63,
   "id": "457ae730",
   "metadata": {},
   "outputs": [
    {
     "data": {
      "text/plain": [
       "BernoulliNB()"
      ]
     },
     "execution_count": 63,
     "metadata": {},
     "output_type": "execute_result"
    }
   ],
   "source": [
    "nb_tfidf = BernoulliNB()\n",
    "nb_tfidf.fit(X_train, y_train)"
   ]
  },
  {
   "cell_type": "code",
   "execution_count": 64,
   "id": "6a341b9e",
   "metadata": {},
   "outputs": [],
   "source": [
    "y_pred_t3 = nb_tfidf.predict(X_test)"
   ]
  },
  {
   "cell_type": "code",
   "execution_count": 65,
   "id": "ca055f3e",
   "metadata": {},
   "outputs": [
    {
     "name": "stdout",
     "output_type": "stream",
     "text": [
      "Accuracy: 0.90\n"
     ]
    }
   ],
   "source": [
    "accuracy_t3 = accuracy_score(y_test, y_pred_t3)\n",
    "print(f\"Accuracy: {accuracy_t3:.2f}\")"
   ]
  },
  {
   "cell_type": "code",
   "execution_count": 66,
   "id": "0599fc42",
   "metadata": {},
   "outputs": [
    {
     "name": "stdout",
     "output_type": "stream",
     "text": [
      "              precision    recall  f1-score   support\n",
      "\n",
      "           0       0.88      0.86      0.87       774\n",
      "           1       0.91      0.92      0.92      1228\n",
      "\n",
      "    accuracy                           0.90      2002\n",
      "   macro avg       0.89      0.89      0.89      2002\n",
      "weighted avg       0.90      0.90      0.90      2002\n",
      "\n"
     ]
    }
   ],
   "source": [
    "report = classification_report(y_test, y_pred_t3)\n",
    "print(report)"
   ]
  },
  {
   "cell_type": "code",
   "execution_count": 67,
   "id": "bf66c9f8",
   "metadata": {},
   "outputs": [
    {
     "data": {
      "image/png": "[encoded data removed]",
      "text/plain": [
       "<Figure size 576x432 with 1 Axes>"
      ]
     },
     "metadata": {
      "needs_background": "light"
     },
     "output_type": "display_data"
    }
   ],
   "source": [
    "conf_matrix = confusion_matrix(y_test, y_pred_t3)\n",
    "\n",
    "# Plotting the confusion matrix as a heatmap\n",
    "plt.figure(figsize=(8, 6))\n",
    "sns.heatmap(conf_matrix, annot=True, fmt=\"d\", cmap=\"Blues\", cbar=False)\n",
    "plt.xlabel('Predicted labels')\n",
    "plt.ylabel('True labels')\n",
    "plt.title('Confusion Matrix')\n",
    "plt.show()"
   ]
  },
  {
   "cell_type": "code",
   "execution_count": null,
   "id": "c5832cd8",
   "metadata": {},
   "outputs": [],
   "source": []
  },
  {
   "cell_type": "markdown",
   "id": "78cc5e3e",
   "metadata": {},
   "source": [
    "4. Decision Trees"
   ]
  },
  {
   "cell_type": "code",
   "execution_count": 68,
   "id": "43cbc10d",
   "metadata": {},
   "outputs": [
    {
     "data": {
      "text/plain": [
       "DecisionTreeClassifier()"
      ]
     },
     "execution_count": 68,
     "metadata": {},
     "output_type": "execute_result"
    }
   ],
   "source": [
    "tree_tfidf = DecisionTreeClassifier()\n",
    "tree_tfidf.fit(X_train, y_train)"
   ]
  },
  {
   "cell_type": "code",
   "execution_count": 69,
   "id": "838083e4",
   "metadata": {},
   "outputs": [],
   "source": [
    "y_pred_t4 = tree_tfidf.predict(X_test)"
   ]
  },
  {
   "cell_type": "code",
   "execution_count": 70,
   "id": "30d623aa",
   "metadata": {},
   "outputs": [
    {
     "name": "stdout",
     "output_type": "stream",
     "text": [
      "Accuracy: 0.91\n"
     ]
    }
   ],
   "source": [
    "accuracy_t4 = accuracy_score(y_test, y_pred_t4)\n",
    "print(f\"Accuracy: {accuracy_t4:.2f}\")"
   ]
  },
  {
   "cell_type": "code",
   "execution_count": 71,
   "id": "fd9519dc",
   "metadata": {},
   "outputs": [
    {
     "name": "stdout",
     "output_type": "stream",
     "text": [
      "              precision    recall  f1-score   support\n",
      "\n",
      "           0       0.90      0.87      0.88       774\n",
      "           1       0.92      0.94      0.93      1228\n",
      "\n",
      "    accuracy                           0.91      2002\n",
      "   macro avg       0.91      0.90      0.91      2002\n",
      "weighted avg       0.91      0.91      0.91      2002\n",
      "\n"
     ]
    }
   ],
   "source": [
    "report = classification_report(y_test, y_pred_t4)\n",
    "print(report)"
   ]
  },
  {
   "cell_type": "code",
   "execution_count": 72,
   "id": "660ab799",
   "metadata": {},
   "outputs": [
    {
     "data": {
      "image/png": "[encoded data removed]",
      "text/plain": [
       "<Figure size 576x432 with 1 Axes>"
      ]
     },
     "metadata": {
      "needs_background": "light"
     },
     "output_type": "display_data"
    }
   ],
   "source": [
    "conf_matrix = confusion_matrix(y_test, y_pred_t4)\n",
    "\n",
    "# Plotting the confusion matrix as a heatmap\n",
    "plt.figure(figsize=(8, 6))\n",
    "sns.heatmap(conf_matrix, annot=True, fmt=\"d\", cmap=\"Blues\", cbar=False)\n",
    "plt.xlabel('Predicted labels')\n",
    "plt.ylabel('True labels')\n",
    "plt.title('Confusion Matrix')\n",
    "plt.show()"
   ]
  },
  {
   "cell_type": "code",
   "execution_count": null,
   "id": "8d3a2910",
   "metadata": {},
   "outputs": [],
   "source": []
  },
  {
   "cell_type": "markdown",
   "id": "3f907705",
   "metadata": {},
   "source": [
    "5. Random Forest"
   ]
  },
  {
   "cell_type": "code",
   "execution_count": 73,
   "id": "36bd79d2",
   "metadata": {},
   "outputs": [
    {
     "data": {
      "text/plain": [
       "RandomForestClassifier()"
      ]
     },
     "execution_count": 73,
     "metadata": {},
     "output_type": "execute_result"
    }
   ],
   "source": [
    "rf_tfidf = RandomForestClassifier()\n",
    "rf_tfidf.fit(X_train, y_train)"
   ]
  },
  {
   "cell_type": "code",
   "execution_count": 74,
   "id": "65a2ee68",
   "metadata": {},
   "outputs": [],
   "source": [
    "y_pred_t5 = rf_tfidf.predict(X_test)"
   ]
  },
  {
   "cell_type": "code",
   "execution_count": 75,
   "id": "7f70e44b",
   "metadata": {},
   "outputs": [
    {
     "name": "stdout",
     "output_type": "stream",
     "text": [
      "Accuracy: 0.93\n"
     ]
    }
   ],
   "source": [
    "accuracy_t5 = accuracy_score(y_test, y_pred_t5)\n",
    "print(f\"Accuracy: {accuracy_t5:.2f}\")"
   ]
  },
  {
   "cell_type": "code",
   "execution_count": 76,
   "id": "d8c7c86f",
   "metadata": {},
   "outputs": [
    {
     "name": "stdout",
     "output_type": "stream",
     "text": [
      "              precision    recall  f1-score   support\n",
      "\n",
      "           0       0.92      0.89      0.90       774\n",
      "           1       0.93      0.95      0.94      1228\n",
      "\n",
      "    accuracy                           0.93      2002\n",
      "   macro avg       0.92      0.92      0.92      2002\n",
      "weighted avg       0.93      0.93      0.93      2002\n",
      "\n"
     ]
    }
   ],
   "source": [
    "report = classification_report(y_test, y_pred_t5)\n",
    "print(report)"
   ]
  },
  {
   "cell_type": "code",
   "execution_count": 77,
   "id": "66ff7acc",
   "metadata": {},
   "outputs": [
    {
     "data": {
      "image/png": "[encoded data removed]",
      "text/plain": [
       "<Figure size 576x432 with 1 Axes>"
      ]
     },
     "metadata": {
      "needs_background": "light"
     },
     "output_type": "display_data"
    }
   ],
   "source": [
    "conf_matrix = confusion_matrix(y_test, y_pred_t5)\n",
    "\n",
    "# Plotting the confusion matrix as a heatmap\n",
    "plt.figure(figsize=(8, 6))\n",
    "sns.heatmap(conf_matrix, annot=True, fmt=\"d\", cmap=\"Blues\", cbar=False)\n",
    "plt.xlabel('Predicted labels')\n",
    "plt.ylabel('True labels')\n",
    "plt.title('Confusion Matrix')\n",
    "plt.show()"
   ]
  },
  {
   "cell_type": "code",
   "execution_count": null,
   "id": "76e74841",
   "metadata": {},
   "outputs": [],
   "source": []
  },
  {
   "cell_type": "code",
   "execution_count": 78,
   "id": "36bf3307",
   "metadata": {},
   "outputs": [
    {
     "data": {
      "image/png": "[encoded data removed]",
      "text/plain": [
       "<Figure size 720x432 with 1 Axes>"
      ]
     },
     "metadata": {
      "needs_background": "light"
     },
     "output_type": "display_data"
    }
   ],
   "source": [
    "accuracies = [accuracy_t1, accuracy_t2, accuracy_t3, accuracy_t4, accuracy_t5]\n",
    "model_names = ['SVM', 'KNN', 'Naive Bayes', 'Decision Trees', 'Random Forest']\n",
    "\n",
    "# Plotting the accuracies\n",
    "plt.figure(figsize=(10, 6))\n",
    "plt.bar(model_names, accuracies, color='skyblue')\n",
    "plt.xlabel('Models')\n",
    "plt.ylabel('Accuracy')\n",
    "plt.title('Accuracy Comparison of Different Models')\n",
    "plt.ylim(0, 1)  # Set y-axis limit to 0-1 for accuracy\n",
    "plt.show()"
   ]
  },
  {
   "cell_type": "code",
   "execution_count": 79,
   "id": "5939bb04",
   "metadata": {},
   "outputs": [
    {
     "data": {
      "image/png": "[encoded data removed]",
      "text/plain": [
       "<Figure size 576x432 with 1 Axes>"
      ]
     },
     "metadata": {
      "needs_background": "light"
     },
     "output_type": "display_data"
    }
   ],
   "source": [
    "# Calculate ROC curve and AUC for each model\n",
    "\n",
    "fpr_svm, tpr_svm, _ = roc_curve(y_test, y_pred_t1)\n",
    "roc_auc_svm = auc(fpr_svm, tpr_svm)\n",
    "\n",
    "fpr_dt, tpr_dt, _ = roc_curve(y_test, y_pred_t4)\n",
    "roc_auc_dt = auc(fpr_dt, tpr_dt)\n",
    "\n",
    "fpr_nb, tpr_nb, _ = roc_curve(y_test, y_pred_t3)\n",
    "roc_auc_nb = auc(fpr_nb, tpr_nb)\n",
    "\n",
    "fpr_rf, tpr_rf, _ = roc_curve(y_test, y_pred_t5)\n",
    "roc_auc_rf = auc(fpr_rf, tpr_rf)\n",
    "\n",
    "fpr_knn, tpr_knn, _ = roc_curve(y_test, y_pred_t2)\n",
    "roc_auc_knn = auc(fpr_knn, tpr_knn)\n",
    "\n",
    "# Plotting ROC curves\n",
    "plt.figure(figsize=(8, 6))\n",
    "plt.plot(fpr_svm, tpr_svm, label=f'SVM (AUC = {roc_auc_svm:.2f})')\n",
    "plt.plot(fpr_dt, tpr_dt, label=f'Decision Tree (AUC = {roc_auc_dt:.2f})')\n",
    "plt.plot(fpr_nb, tpr_nb, label=f'Naive Bayes (AUC = {roc_auc_nb:.2f})')\n",
    "plt.plot(fpr_rf, tpr_rf, label=f'Random Forest (AUC = {roc_auc_rf:.2f})')\n",
    "plt.plot(fpr_knn, tpr_knn, label=f'KNN (AUC = {roc_auc_knn:.2f})')\n",
    "\n",
    "plt.plot([0, 1], [0, 1], linestyle='--', color='grey', label='Random')\n",
    "plt.xlabel('False Positive Rate')\n",
    "plt.ylabel('True Positive Rate')\n",
    "plt.title('ROC Curve for Different Models')\n",
    "plt.legend()\n",
    "plt.show()"
   ]
  },
  {
   "cell_type": "code",
   "execution_count": null,
   "id": "e5b496c0",
   "metadata": {},
   "outputs": [],
   "source": []
  },
  {
   "cell_type": "markdown",
   "id": "395ed9b4",
   "metadata": {},
   "source": [
    "<b>Word Embedding Techniques</b>\n",
    "1. Word2Vec"
   ]
  },
  {
   "cell_type": "code",
   "execution_count": 80,
   "id": "6e1a1401",
   "metadata": {},
   "outputs": [],
   "source": [
    "model_file_path = 'GoogleNews-vectors-negative300.bin.gz'"
   ]
  },
  {
   "cell_type": "code",
   "execution_count": 81,
   "id": "33760f39",
   "metadata": {},
   "outputs": [],
   "source": [
    "model = KeyedVectors.load_word2vec_format(model_file_path, binary=True)"
   ]
  },
  {
   "cell_type": "code",
   "execution_count": 82,
   "id": "6200e9df",
   "metadata": {},
   "outputs": [],
   "source": [
    "vectorized_data = []\n",
    "for text in data['cleaned_tweet']:\n",
    "    words = text.split()  # Tokenize the preprocessed text\n",
    "    sentence_vectors = [model[word] for word in words if word in model]\n",
    "    vectorized_data.append(sentence_vectors)"
   ]
  },
  {
   "cell_type": "code",
   "execution_count": 83,
   "id": "25d0815f",
   "metadata": {},
   "outputs": [],
   "source": [
    "max_length = max(len(sentence) for sentence in vectorized_data)"
   ]
  },
  {
   "cell_type": "code",
   "execution_count": 84,
   "id": "ffd98bfa",
   "metadata": {},
   "outputs": [],
   "source": [
    "padded_data = np.zeros((len(vectorized_data), max_length, vectorized_data[0][0].shape[0]))\n",
    "\n",
    "# Fill the padded_data array with the word vectors\n",
    "for i, sentence_vectors in enumerate(vectorized_data):\n",
    "    for j, word_vector in enumerate(sentence_vectors):\n",
    "        padded_data[i][j] = word_vector"
   ]
  },
  {
   "cell_type": "code",
   "execution_count": null,
   "id": "cc230769",
   "metadata": {},
   "outputs": [],
   "source": []
  },
  {
   "cell_type": "code",
   "execution_count": 85,
   "id": "80520582",
   "metadata": {},
   "outputs": [],
   "source": [
    "X_w2v = padded_data.reshape(len(padded_data), -1)"
   ]
  },
  {
   "cell_type": "code",
   "execution_count": 86,
   "id": "e8e85ffb",
   "metadata": {},
   "outputs": [],
   "source": [
    "X_train, X_test, y_train, y_test = train_test_split(X_w2v, y_final, test_size=0.2, random_state=42, stratify=y_final)"
   ]
  },
  {
   "cell_type": "markdown",
   "id": "00f36aa6",
   "metadata": {},
   "source": [
    "1. SVM"
   ]
  },
  {
   "cell_type": "code",
   "execution_count": 87,
   "id": "1cc4cea2",
   "metadata": {},
   "outputs": [
    {
     "data": {
      "text/plain": [
       "SVC(kernel='linear')"
      ]
     },
     "execution_count": 87,
     "metadata": {},
     "output_type": "execute_result"
    }
   ],
   "source": [
    "svm_w2v = SVC(kernel='linear')\n",
    "svm_w2v.fit(X_train, y_train)"
   ]
  },
  {
   "cell_type": "code",
   "execution_count": 88,
   "id": "72d3cdaf",
   "metadata": {},
   "outputs": [],
   "source": [
    "y_pred_w1 = svm_w2v.predict(X_test)"
   ]
  },
  {
   "cell_type": "code",
   "execution_count": 89,
   "id": "c61a7690",
   "metadata": {},
   "outputs": [
    {
     "name": "stdout",
     "output_type": "stream",
     "text": [
      "Accuracy: 0.83\n"
     ]
    }
   ],
   "source": [
    "accuracy_w1 = accuracy_score(y_test, y_pred_w1)\n",
    "print(f\"Accuracy: {accuracy_w1:.2f}\")"
   ]
  },
  {
   "cell_type": "code",
   "execution_count": 90,
   "id": "c4c614fa",
   "metadata": {},
   "outputs": [
    {
     "name": "stdout",
     "output_type": "stream",
     "text": [
      "              precision    recall  f1-score   support\n",
      "\n",
      "           0       0.77      0.80      0.78       774\n",
      "           1       0.87      0.85      0.86      1228\n",
      "\n",
      "    accuracy                           0.83      2002\n",
      "   macro avg       0.82      0.82      0.82      2002\n",
      "weighted avg       0.83      0.83      0.83      2002\n",
      "\n"
     ]
    }
   ],
   "source": [
    "report = classification_report(y_test, y_pred_w1)\n",
    "print(report)"
   ]
  },
  {
   "cell_type": "code",
   "execution_count": 91,
   "id": "ddeb502d",
   "metadata": {},
   "outputs": [
    {
     "data": {
      "image/png": "[encoded data removed]",
      "text/plain": [
       "<Figure size 576x432 with 1 Axes>"
      ]
     },
     "metadata": {
      "needs_background": "light"
     },
     "output_type": "display_data"
    }
   ],
   "source": [
    "conf_matrix = confusion_matrix(y_test, y_pred_w1)\n",
    "\n",
    "# Plotting the confusion matrix as a heatmap\n",
    "plt.figure(figsize=(8, 6))\n",
    "sns.heatmap(conf_matrix, annot=True, fmt=\"d\", cmap=\"Blues\", cbar=False)\n",
    "plt.xlabel('Predicted labels')\n",
    "plt.ylabel('True labels')\n",
    "plt.title('Confusion Matrix')\n",
    "plt.show()"
   ]
  },
  {
   "cell_type": "code",
   "execution_count": null,
   "id": "a83b0a6e",
   "metadata": {},
   "outputs": [],
   "source": []
  },
  {
   "cell_type": "markdown",
   "id": "55062e4e",
   "metadata": {},
   "source": [
    "2. KNN"
   ]
  },
  {
   "cell_type": "code",
   "execution_count": 92,
   "id": "33af59fd",
   "metadata": {},
   "outputs": [
    {
     "data": {
      "text/plain": [
       "KNeighborsClassifier(n_neighbors=40)"
      ]
     },
     "execution_count": 92,
     "metadata": {},
     "output_type": "execute_result"
    }
   ],
   "source": [
    "knn_w2v = KNeighborsClassifier(n_neighbors=40)\n",
    "knn_w2v.fit(X_train, y_train)"
   ]
  },
  {
   "cell_type": "code",
   "execution_count": 93,
   "id": "17f021cc",
   "metadata": {},
   "outputs": [
    {
     "name": "stderr",
     "output_type": "stream",
     "text": [
      "c:\\Users\\hp\\anaconda3\\lib\\site-packages\\sklearn\\neighbors\\_classification.py:228: FutureWarning: Unlike other reduction functions (e.g. `skew`, `kurtosis`), the default behavior of `mode` typically preserves the axis it acts along. In SciPy 1.11.0, this behavior will change: the default value of `keepdims` will become False, the `axis` over which the statistic is taken will be eliminated, and the value None will no longer be accepted. Set `keepdims` to True or False to avoid this warning.\n",
      "  mode, _ = stats.mode(_y[neigh_ind, k], axis=1)\n"
     ]
    }
   ],
   "source": [
    "y_pred_w2 = knn_w2v.predict(X_test)"
   ]
  },
  {
   "cell_type": "code",
   "execution_count": 94,
   "id": "f255d43b",
   "metadata": {
    "scrolled": true
   },
   "outputs": [
    {
     "name": "stdout",
     "output_type": "stream",
     "text": [
      "Accuracy: 0.67\n"
     ]
    }
   ],
   "source": [
    "accuracy_w2 = accuracy_score(y_test, y_pred_w2)\n",
    "print(f\"Accuracy: {accuracy_w2:.2f}\")"
   ]
  },
  {
   "cell_type": "code",
   "execution_count": 95,
   "id": "8e783e18",
   "metadata": {},
   "outputs": [
    {
     "name": "stdout",
     "output_type": "stream",
     "text": [
      "              precision    recall  f1-score   support\n",
      "\n",
      "           0       0.54      0.95      0.69       774\n",
      "           1       0.94      0.50      0.65      1228\n",
      "\n",
      "    accuracy                           0.67      2002\n",
      "   macro avg       0.74      0.72      0.67      2002\n",
      "weighted avg       0.79      0.67      0.67      2002\n",
      "\n"
     ]
    }
   ],
   "source": [
    "report = classification_report(y_test, y_pred_w2)\n",
    "print(report)"
   ]
  },
  {
   "cell_type": "code",
   "execution_count": 96,
   "id": "e091724f",
   "metadata": {},
   "outputs": [
    {
     "data": {
      "image/png": "[encoded data removed]",
      "text/plain": [
       "<Figure size 576x432 with 1 Axes>"
      ]
     },
     "metadata": {
      "needs_background": "light"
     },
     "output_type": "display_data"
    }
   ],
   "source": [
    "conf_matrix = confusion_matrix(y_test, y_pred_w2)\n",
    "\n",
    "# Plotting the confusion matrix as a heatmap\n",
    "plt.figure(figsize=(8, 6))\n",
    "sns.heatmap(conf_matrix, annot=True, fmt=\"d\", cmap=\"Blues\", cbar=False)\n",
    "plt.xlabel('Predicted labels')\n",
    "plt.ylabel('True labels')\n",
    "plt.title('Confusion Matrix')\n",
    "plt.show()"
   ]
  },
  {
   "cell_type": "code",
   "execution_count": null,
   "id": "5fa4b758",
   "metadata": {},
   "outputs": [],
   "source": []
  },
  {
   "cell_type": "markdown",
   "id": "4b93c3d0",
   "metadata": {},
   "source": [
    "3. Naive Bayes"
   ]
  },
  {
   "cell_type": "code",
   "execution_count": 97,
   "id": "c56bccbf",
   "metadata": {},
   "outputs": [
    {
     "data": {
      "text/plain": [
       "BernoulliNB()"
      ]
     },
     "execution_count": 97,
     "metadata": {},
     "output_type": "execute_result"
    }
   ],
   "source": [
    "nb_w2v = BernoulliNB()\n",
    "nb_w2v.fit(X_train, y_train)"
   ]
  },
  {
   "cell_type": "code",
   "execution_count": 98,
   "id": "64881ddb",
   "metadata": {},
   "outputs": [],
   "source": [
    "y_pred_w3 = nb_w2v.predict(X_test)"
   ]
  },
  {
   "cell_type": "code",
   "execution_count": 99,
   "id": "7dae147c",
   "metadata": {},
   "outputs": [
    {
     "name": "stdout",
     "output_type": "stream",
     "text": [
      "Accuracy: 0.64\n"
     ]
    }
   ],
   "source": [
    "accuracy_w3 = accuracy_score(y_test, y_pred_w3)\n",
    "print(f\"Accuracy: {accuracy_w3:.2f}\")"
   ]
  },
  {
   "cell_type": "code",
   "execution_count": 100,
   "id": "dbde4427",
   "metadata": {},
   "outputs": [
    {
     "name": "stdout",
     "output_type": "stream",
     "text": [
      "              precision    recall  f1-score   support\n",
      "\n",
      "           0       0.52      0.72      0.61       774\n",
      "           1       0.77      0.58      0.66      1228\n",
      "\n",
      "    accuracy                           0.64      2002\n",
      "   macro avg       0.65      0.65      0.63      2002\n",
      "weighted avg       0.67      0.64      0.64      2002\n",
      "\n"
     ]
    }
   ],
   "source": [
    "report = classification_report(y_test, y_pred_w3)\n",
    "print(report)"
   ]
  },
  {
   "cell_type": "code",
   "execution_count": 101,
   "id": "814a8ea9",
   "metadata": {},
   "outputs": [
    {
     "data": {
      "image/png": "[encoded data removed]",
      "text/plain": [
       "<Figure size 576x432 with 1 Axes>"
      ]
     },
     "metadata": {
      "needs_background": "light"
     },
     "output_type": "display_data"
    }
   ],
   "source": [
    "conf_matrix = confusion_matrix(y_test, y_pred_w3)\n",
    "\n",
    "# Plotting the confusion matrix as a heatmap\n",
    "plt.figure(figsize=(8, 6))\n",
    "sns.heatmap(conf_matrix, annot=True, fmt=\"d\", cmap=\"Blues\", cbar=False)\n",
    "plt.xlabel('Predicted labels')\n",
    "plt.ylabel('True labels')\n",
    "plt.title('Confusion Matrix')\n",
    "plt.show()"
   ]
  },
  {
   "cell_type": "code",
   "execution_count": null,
   "id": "48b1de08",
   "metadata": {},
   "outputs": [],
   "source": []
  },
  {
   "cell_type": "markdown",
   "id": "4b8aa670",
   "metadata": {},
   "source": [
    "4. Decision Trees"
   ]
  },
  {
   "cell_type": "code",
   "execution_count": 102,
   "id": "dbdfaafb",
   "metadata": {},
   "outputs": [
    {
     "data": {
      "text/plain": [
       "DecisionTreeClassifier()"
      ]
     },
     "execution_count": 102,
     "metadata": {},
     "output_type": "execute_result"
    }
   ],
   "source": [
    "tree_w2v = DecisionTreeClassifier()\n",
    "tree_w2v.fit(X_train, y_train)"
   ]
  },
  {
   "cell_type": "code",
   "execution_count": 103,
   "id": "0614ee78",
   "metadata": {},
   "outputs": [],
   "source": [
    "y_pred_w4 = tree_w2v.predict(X_test)"
   ]
  },
  {
   "cell_type": "code",
   "execution_count": 104,
   "id": "c491fe35",
   "metadata": {
    "scrolled": true
   },
   "outputs": [
    {
     "name": "stdout",
     "output_type": "stream",
     "text": [
      "Accuracy: 0.79\n"
     ]
    }
   ],
   "source": [
    "accuracy_w4 = accuracy_score(y_test, y_pred_w4)\n",
    "print(f\"Accuracy: {accuracy_w4:.2f}\")"
   ]
  },
  {
   "cell_type": "code",
   "execution_count": 105,
   "id": "993836aa",
   "metadata": {},
   "outputs": [
    {
     "name": "stdout",
     "output_type": "stream",
     "text": [
      "              precision    recall  f1-score   support\n",
      "\n",
      "           0       0.73      0.71      0.72       774\n",
      "           1       0.82      0.84      0.83      1228\n",
      "\n",
      "    accuracy                           0.79      2002\n",
      "   macro avg       0.78      0.77      0.78      2002\n",
      "weighted avg       0.79      0.79      0.79      2002\n",
      "\n"
     ]
    }
   ],
   "source": [
    "report = classification_report(y_test, y_pred_w4)\n",
    "print(report)"
   ]
  },
  {
   "cell_type": "code",
   "execution_count": 106,
   "id": "a5d9d0ce",
   "metadata": {},
   "outputs": [
    {
     "data": {
      "image/png": "[encoded data removed]",
      "text/plain": [
       "<Figure size 576x432 with 1 Axes>"
      ]
     },
     "metadata": {
      "needs_background": "light"
     },
     "output_type": "display_data"
    }
   ],
   "source": [
    "conf_matrix = confusion_matrix(y_test, y_pred_w4)\n",
    "\n",
    "# Plotting the confusion matrix as a heatmap\n",
    "plt.figure(figsize=(8, 6))\n",
    "sns.heatmap(conf_matrix, annot=True, fmt=\"d\", cmap=\"Blues\", cbar=False)\n",
    "plt.xlabel('Predicted labels')\n",
    "plt.ylabel('True labels')\n",
    "plt.title('Confusion Matrix')\n",
    "plt.show()"
   ]
  },
  {
   "cell_type": "code",
   "execution_count": null,
   "id": "20c09907",
   "metadata": {},
   "outputs": [],
   "source": []
  },
  {
   "cell_type": "markdown",
   "id": "e9a11d15",
   "metadata": {},
   "source": [
    "5. Random Forest"
   ]
  },
  {
   "cell_type": "code",
   "execution_count": 107,
   "id": "aead1f1e",
   "metadata": {},
   "outputs": [
    {
     "data": {
      "text/plain": [
       "RandomForestClassifier()"
      ]
     },
     "execution_count": 107,
     "metadata": {},
     "output_type": "execute_result"
    }
   ],
   "source": [
    "rf_w2v = RandomForestClassifier()\n",
    "rf_w2v.fit(X_train, y_train)"
   ]
  },
  {
   "cell_type": "code",
   "execution_count": 108,
   "id": "5c9e1b10",
   "metadata": {},
   "outputs": [],
   "source": [
    "y_pred_w5 = rf_w2v.predict(X_test)"
   ]
  },
  {
   "cell_type": "code",
   "execution_count": 109,
   "id": "69bb0ad9",
   "metadata": {},
   "outputs": [
    {
     "name": "stdout",
     "output_type": "stream",
     "text": [
      "Accuracy: 0.87\n"
     ]
    }
   ],
   "source": [
    "accuracy_w5 = accuracy_score(y_test, y_pred_w5)\n",
    "print(f\"Accuracy: {accuracy_w5:.2f}\")"
   ]
  },
  {
   "cell_type": "code",
   "execution_count": 110,
   "id": "4ccc1e4c",
   "metadata": {},
   "outputs": [
    {
     "name": "stdout",
     "output_type": "stream",
     "text": [
      "              precision    recall  f1-score   support\n",
      "\n",
      "           0       0.82      0.85      0.84       774\n",
      "           1       0.90      0.88      0.89      1228\n",
      "\n",
      "    accuracy                           0.87      2002\n",
      "   macro avg       0.86      0.87      0.86      2002\n",
      "weighted avg       0.87      0.87      0.87      2002\n",
      "\n"
     ]
    }
   ],
   "source": [
    "report = classification_report(y_test, y_pred_w5)\n",
    "print(report)"
   ]
  },
  {
   "cell_type": "code",
   "execution_count": 111,
   "id": "ed48860e",
   "metadata": {},
   "outputs": [
    {
     "data": {
      "image/png": "[encoded data removed]",
      "text/plain": [
       "<Figure size 576x432 with 1 Axes>"
      ]
     },
     "metadata": {
      "needs_background": "light"
     },
     "output_type": "display_data"
    }
   ],
   "source": [
    "conf_matrix = confusion_matrix(y_test, y_pred_w5)\n",
    "\n",
    "# Plotting the confusion matrix as a heatmap\n",
    "plt.figure(figsize=(8, 6))\n",
    "sns.heatmap(conf_matrix, annot=True, fmt=\"d\", cmap=\"Blues\", cbar=False)\n",
    "plt.xlabel('Predicted labels')\n",
    "plt.ylabel('True labels')\n",
    "plt.title('Confusion Matrix')\n",
    "plt.show()"
   ]
  },
  {
   "cell_type": "code",
   "execution_count": null,
   "id": "056a6299",
   "metadata": {},
   "outputs": [],
   "source": []
  },
  {
   "cell_type": "code",
   "execution_count": null,
   "id": "405e1f75",
   "metadata": {},
   "outputs": [],
   "source": []
  },
  {
   "cell_type": "code",
   "execution_count": 112,
   "id": "d50580ea",
   "metadata": {},
   "outputs": [
    {
     "data": {
      "image/png": "[encoded data removed]",
      "text/plain": [
       "<Figure size 720x432 with 1 Axes>"
      ]
     },
     "metadata": {
      "needs_background": "light"
     },
     "output_type": "display_data"
    }
   ],
   "source": [
    "accuracies = [accuracy_w1, accuracy_w2, accuracy_w3, accuracy_w4, accuracy_w5]\n",
    "model_names = ['SVM', 'KNN', 'Naive Bayes', 'Decision Trees', 'Random Forest']\n",
    "\n",
    "# Plotting the accuracies\n",
    "plt.figure(figsize=(10, 6))\n",
    "plt.bar(model_names, accuracies, color='skyblue')\n",
    "plt.xlabel('Models')\n",
    "plt.ylabel('Accuracy')\n",
    "plt.title('Accuracy Comparison of Different Models')\n",
    "plt.ylim(0, 1)  # Set y-axis limit to 0-1 for accuracy\n",
    "plt.show()"
   ]
  },
  {
   "cell_type": "code",
   "execution_count": 113,
   "id": "e478d0b4",
   "metadata": {},
   "outputs": [
    {
     "data": {
      "image/png": "[encoded data removed]",
      "text/plain": [
       "<Figure size 576x432 with 1 Axes>"
      ]
     },
     "metadata": {
      "needs_background": "light"
     },
     "output_type": "display_data"
    }
   ],
   "source": [
    "# Calculate ROC curve and AUC for each model\n",
    "\n",
    "fpr_svm, tpr_svm, _ = roc_curve(y_test, y_pred_w1)\n",
    "roc_auc_svm = auc(fpr_svm, tpr_svm)\n",
    "\n",
    "fpr_dt, tpr_dt, _ = roc_curve(y_test, y_pred_w4)\n",
    "roc_auc_dt = auc(fpr_dt, tpr_dt)\n",
    "\n",
    "fpr_nb, tpr_nb, _ = roc_curve(y_test, y_pred_w3)\n",
    "roc_auc_nb = auc(fpr_nb, tpr_nb)\n",
    "\n",
    "fpr_rf, tpr_rf, _ = roc_curve(y_test, y_pred_w5)\n",
    "roc_auc_rf = auc(fpr_rf, tpr_rf)\n",
    "\n",
    "fpr_knn, tpr_knn, _ = roc_curve(y_test, y_pred_w2)\n",
    "roc_auc_knn = auc(fpr_knn, tpr_knn)\n",
    "\n",
    "# Plotting ROC curves\n",
    "plt.figure(figsize=(8, 6))\n",
    "plt.plot(fpr_svm, tpr_svm, label=f'SVM (AUC = {roc_auc_svm:.2f})')\n",
    "plt.plot(fpr_dt, tpr_dt, label=f'Decision Tree (AUC = {roc_auc_dt:.2f})')\n",
    "plt.plot(fpr_nb, tpr_nb, label=f'Naive Bayes (AUC = {roc_auc_nb:.2f})')\n",
    "plt.plot(fpr_rf, tpr_rf, label=f'Random Forest (AUC = {roc_auc_rf:.2f})')\n",
    "plt.plot(fpr_knn, tpr_knn, label=f'KNN (AUC = {roc_auc_knn:.2f})')\n",
    "\n",
    "plt.plot([0, 1], [0, 1], linestyle='--', color='grey', label='Random')\n",
    "plt.xlabel('False Positive Rate')\n",
    "plt.ylabel('True Positive Rate')\n",
    "plt.title('ROC Curve for Different Models')\n",
    "plt.legend()\n",
    "plt.show()"
   ]
  },
  {
   "cell_type": "code",
   "execution_count": null,
   "id": "7d031638",
   "metadata": {},
   "outputs": [],
   "source": []
  },
  {
   "cell_type": "code",
   "execution_count": null,
   "id": "e9610ccd",
   "metadata": {},
   "outputs": [],
   "source": []
  },
  {
   "cell_type": "markdown",
   "id": "1125a475",
   "metadata": {},
   "source": [
    "<b>Combining the different word vectorization techniques</b>"
   ]
  },
  {
   "cell_type": "markdown",
   "id": "fa7c41c3",
   "metadata": {},
   "source": [
    "##### 1. All 3 techniques"
   ]
  },
  {
   "cell_type": "code",
   "execution_count": 114,
   "id": "d6b5a2bc",
   "metadata": {},
   "outputs": [],
   "source": [
    "combined_features_1 = np.concatenate((x_bow, x_tfidf, X_w2v), axis=1)"
   ]
  },
  {
   "cell_type": "code",
   "execution_count": 115,
   "id": "a477bc7a",
   "metadata": {},
   "outputs": [],
   "source": [
    "X_train_1, X_test_1, y_train_1, y_test_1 = train_test_split(combined_features_1, y_final, test_size=0.2, random_state=42, stratify = y_final)"
   ]
  },
  {
   "cell_type": "markdown",
   "id": "5242529c",
   "metadata": {},
   "source": [
    "Random Forest"
   ]
  },
  {
   "cell_type": "code",
   "execution_count": 116,
   "id": "504e2ece",
   "metadata": {},
   "outputs": [
    {
     "data": {
      "text/plain": [
       "RandomForestClassifier()"
      ]
     },
     "execution_count": 116,
     "metadata": {},
     "output_type": "execute_result"
    }
   ],
   "source": [
    "rf_btw = RandomForestClassifier()\n",
    "rf_btw.fit(X_train_1, y_train_1)"
   ]
  },
  {
   "cell_type": "code",
   "execution_count": 117,
   "id": "cf92e7d9",
   "metadata": {},
   "outputs": [],
   "source": [
    "y_pred_rf1 = rf_btw.predict(X_test_1)"
   ]
  },
  {
   "cell_type": "code",
   "execution_count": 118,
   "id": "1960f884",
   "metadata": {},
   "outputs": [
    {
     "name": "stdout",
     "output_type": "stream",
     "text": [
      "Accuracy: 0.88\n"
     ]
    }
   ],
   "source": [
    "accuracy_btw1 = accuracy_score(y_test_1, y_pred_rf1)\n",
    "print(f\"Accuracy: {accuracy_btw1:.2f}\")"
   ]
  },
  {
   "cell_type": "code",
   "execution_count": 119,
   "id": "63600727",
   "metadata": {
    "scrolled": true
   },
   "outputs": [
    {
     "name": "stdout",
     "output_type": "stream",
     "text": [
      "              precision    recall  f1-score   support\n",
      "\n",
      "           0       0.83      0.86      0.84       774\n",
      "           1       0.91      0.89      0.90      1228\n",
      "\n",
      "    accuracy                           0.88      2002\n",
      "   macro avg       0.87      0.87      0.87      2002\n",
      "weighted avg       0.88      0.88      0.88      2002\n",
      "\n"
     ]
    }
   ],
   "source": [
    "report = classification_report(y_test, y_pred_rf1)\n",
    "print(report)"
   ]
  },
  {
   "cell_type": "code",
   "execution_count": 120,
   "id": "47d2871b",
   "metadata": {},
   "outputs": [
    {
     "data": {
      "image/png": "[encoded data removed]",
      "text/plain": [
       "<Figure size 576x432 with 1 Axes>"
      ]
     },
     "metadata": {
      "needs_background": "light"
     },
     "output_type": "display_data"
    }
   ],
   "source": [
    "conf_matrix = confusion_matrix(y_test, y_pred_rf1)\n",
    "\n",
    "# Plotting the confusion matrix as a heatmap\n",
    "plt.figure(figsize=(8, 6))\n",
    "sns.heatmap(conf_matrix, annot=True, fmt=\"d\", cmap=\"Blues\", cbar=False)\n",
    "plt.xlabel('Predicted labels')\n",
    "plt.ylabel('True labels')\n",
    "plt.title('Confusion Matrix')\n",
    "plt.show()"
   ]
  },
  {
   "cell_type": "code",
   "execution_count": null,
   "id": "3c3bd65c",
   "metadata": {},
   "outputs": [],
   "source": []
  },
  {
   "cell_type": "markdown",
   "id": "effa0b34",
   "metadata": {},
   "source": [
    "SVM"
   ]
  },
  {
   "cell_type": "code",
   "execution_count": 121,
   "id": "8fa276c3",
   "metadata": {},
   "outputs": [
    {
     "data": {
      "text/plain": [
       "SVC(kernel='linear')"
      ]
     },
     "execution_count": 121,
     "metadata": {},
     "output_type": "execute_result"
    }
   ],
   "source": [
    "svm_btw = SVC(kernel='linear')\n",
    "svm_btw.fit(X_train_1, y_train_1)"
   ]
  },
  {
   "cell_type": "code",
   "execution_count": 122,
   "id": "7c01cfee",
   "metadata": {},
   "outputs": [],
   "source": [
    "y_pred_s1 = svm_btw.predict(X_test_1)"
   ]
  },
  {
   "cell_type": "code",
   "execution_count": 123,
   "id": "3928ec63",
   "metadata": {},
   "outputs": [
    {
     "name": "stdout",
     "output_type": "stream",
     "text": [
      "Accuracy: 0.89\n"
     ]
    }
   ],
   "source": [
    "accuracy_btw2 = accuracy_score(y_test_1, y_pred_s1)\n",
    "print(f\"Accuracy: {accuracy_btw2:.2f}\")"
   ]
  },
  {
   "cell_type": "code",
   "execution_count": 124,
   "id": "0ba9f631",
   "metadata": {
    "scrolled": true
   },
   "outputs": [
    {
     "name": "stdout",
     "output_type": "stream",
     "text": [
      "              precision    recall  f1-score   support\n",
      "\n",
      "           0       0.84      0.87      0.86       774\n",
      "           1       0.92      0.90      0.91      1228\n",
      "\n",
      "    accuracy                           0.89      2002\n",
      "   macro avg       0.88      0.88      0.88      2002\n",
      "weighted avg       0.89      0.89      0.89      2002\n",
      "\n"
     ]
    }
   ],
   "source": [
    "report = classification_report(y_test, y_pred_s1)\n",
    "print(report)"
   ]
  },
  {
   "cell_type": "code",
   "execution_count": 125,
   "id": "307d543b",
   "metadata": {},
   "outputs": [
    {
     "data": {
      "image/png": "[encoded data removed]",
      "text/plain": [
       "<Figure size 576x432 with 1 Axes>"
      ]
     },
     "metadata": {
      "needs_background": "light"
     },
     "output_type": "display_data"
    }
   ],
   "source": [
    "conf_matrix = confusion_matrix(y_test, y_pred_s1)\n",
    "\n",
    "# Plotting the confusion matrix as a heatmap\n",
    "plt.figure(figsize=(8, 6))\n",
    "sns.heatmap(conf_matrix, annot=True, fmt=\"d\", cmap=\"Blues\", cbar=False)\n",
    "plt.xlabel('Predicted labels')\n",
    "plt.ylabel('True labels')\n",
    "plt.title('Confusion Matrix')\n",
    "plt.show()"
   ]
  },
  {
   "cell_type": "code",
   "execution_count": null,
   "id": "f655bdd0",
   "metadata": {},
   "outputs": [],
   "source": []
  },
  {
   "cell_type": "markdown",
   "id": "6a56c3a7",
   "metadata": {},
   "source": [
    "KNN"
   ]
  },
  {
   "cell_type": "code",
   "execution_count": 126,
   "id": "2d4e1b23",
   "metadata": {},
   "outputs": [
    {
     "data": {
      "text/plain": [
       "KNeighborsClassifier(n_neighbors=40)"
      ]
     },
     "execution_count": 126,
     "metadata": {},
     "output_type": "execute_result"
    }
   ],
   "source": [
    "knn_btw = KNeighborsClassifier(n_neighbors=40)\n",
    "knn_btw.fit(X_train_1, y_train_1)"
   ]
  },
  {
   "cell_type": "code",
   "execution_count": 127,
   "id": "3c59bdeb",
   "metadata": {},
   "outputs": [
    {
     "name": "stderr",
     "output_type": "stream",
     "text": [
      "c:\\Users\\hp\\anaconda3\\lib\\site-packages\\sklearn\\neighbors\\_classification.py:228: FutureWarning: Unlike other reduction functions (e.g. `skew`, `kurtosis`), the default behavior of `mode` typically preserves the axis it acts along. In SciPy 1.11.0, this behavior will change: the default value of `keepdims` will become False, the `axis` over which the statistic is taken will be eliminated, and the value None will no longer be accepted. Set `keepdims` to True or False to avoid this warning.\n",
      "  mode, _ = stats.mode(_y[neigh_ind, k], axis=1)\n"
     ]
    }
   ],
   "source": [
    "y_pred_k1 = knn_btw.predict(X_test_1)"
   ]
  },
  {
   "cell_type": "code",
   "execution_count": 128,
   "id": "2a54ae67",
   "metadata": {
    "scrolled": true
   },
   "outputs": [
    {
     "name": "stdout",
     "output_type": "stream",
     "text": [
      "Accuracy: 0.78\n"
     ]
    }
   ],
   "source": [
    "accuracy_btw3 = accuracy_score(y_test_1, y_pred_k1)\n",
    "print(f\"Accuracy: {accuracy_btw3:.2f}\")"
   ]
  },
  {
   "cell_type": "code",
   "execution_count": 129,
   "id": "a09bd926",
   "metadata": {
    "scrolled": true
   },
   "outputs": [
    {
     "name": "stdout",
     "output_type": "stream",
     "text": [
      "              precision    recall  f1-score   support\n",
      "\n",
      "           0       0.64      0.96      0.77       774\n",
      "           1       0.97      0.66      0.79      1228\n",
      "\n",
      "    accuracy                           0.78      2002\n",
      "   macro avg       0.80      0.81      0.78      2002\n",
      "weighted avg       0.84      0.78      0.78      2002\n",
      "\n"
     ]
    }
   ],
   "source": [
    "report = classification_report(y_test, y_pred_k1)\n",
    "print(report)"
   ]
  },
  {
   "cell_type": "code",
   "execution_count": 130,
   "id": "0bcd47ed",
   "metadata": {},
   "outputs": [
    {
     "data": {
      "image/png": "[encoded data removed]",
      "text/plain": [
       "<Figure size 576x432 with 1 Axes>"
      ]
     },
     "metadata": {
      "needs_background": "light"
     },
     "output_type": "display_data"
    }
   ],
   "source": [
    "conf_matrix = confusion_matrix(y_test, y_pred_k1)\n",
    "\n",
    "# Plotting the confusion matrix as a heatmap\n",
    "plt.figure(figsize=(8, 6))\n",
    "sns.heatmap(conf_matrix, annot=True, fmt=\"d\", cmap=\"Blues\", cbar=False)\n",
    "plt.xlabel('Predicted labels')\n",
    "plt.ylabel('True labels')\n",
    "plt.title('Confusion Matrix')\n",
    "plt.show()"
   ]
  },
  {
   "cell_type": "code",
   "execution_count": null,
   "id": "8050ca7c",
   "metadata": {},
   "outputs": [],
   "source": []
  },
  {
   "cell_type": "markdown",
   "id": "670da54c",
   "metadata": {},
   "source": [
    "Naive Bayes"
   ]
  },
  {
   "cell_type": "code",
   "execution_count": 131,
   "id": "59c102a8",
   "metadata": {},
   "outputs": [
    {
     "data": {
      "text/plain": [
       "BernoulliNB()"
      ]
     },
     "execution_count": 131,
     "metadata": {},
     "output_type": "execute_result"
    }
   ],
   "source": [
    "nb_btw = BernoulliNB()\n",
    "nb_btw.fit(X_train_1, y_train_1)"
   ]
  },
  {
   "cell_type": "code",
   "execution_count": 132,
   "id": "4c28446c",
   "metadata": {},
   "outputs": [],
   "source": [
    "y_pred_n1 = nb_btw.predict(X_test_1)"
   ]
  },
  {
   "cell_type": "code",
   "execution_count": 133,
   "id": "2a510861",
   "metadata": {},
   "outputs": [
    {
     "name": "stdout",
     "output_type": "stream",
     "text": [
      "Accuracy: 0.64\n"
     ]
    }
   ],
   "source": [
    "accuracy_btw4 = accuracy_score(y_test_1, y_pred_n1)\n",
    "print(f\"Accuracy: {accuracy_btw4:.2f}\")"
   ]
  },
  {
   "cell_type": "code",
   "execution_count": 134,
   "id": "6fb8fd03",
   "metadata": {
    "scrolled": true
   },
   "outputs": [
    {
     "name": "stdout",
     "output_type": "stream",
     "text": [
      "              precision    recall  f1-score   support\n",
      "\n",
      "           0       0.53      0.73      0.61       774\n",
      "           1       0.77      0.59      0.67      1228\n",
      "\n",
      "    accuracy                           0.64      2002\n",
      "   macro avg       0.65      0.66      0.64      2002\n",
      "weighted avg       0.68      0.64      0.65      2002\n",
      "\n"
     ]
    }
   ],
   "source": [
    "report = classification_report(y_test, y_pred_n1)\n",
    "print(report)"
   ]
  },
  {
   "cell_type": "code",
   "execution_count": 135,
   "id": "307b9cf2",
   "metadata": {},
   "outputs": [
    {
     "data": {
      "image/png": "[encoded data removed]",
      "text/plain": [
       "<Figure size 576x432 with 1 Axes>"
      ]
     },
     "metadata": {
      "needs_background": "light"
     },
     "output_type": "display_data"
    }
   ],
   "source": [
    "conf_matrix = confusion_matrix(y_test, y_pred_n1)\n",
    "\n",
    "# Plotting the confusion matrix as a heatmap\n",
    "plt.figure(figsize=(8, 6))\n",
    "sns.heatmap(conf_matrix, annot=True, fmt=\"d\", cmap=\"Blues\", cbar=False)\n",
    "plt.xlabel('Predicted labels')\n",
    "plt.ylabel('True labels')\n",
    "plt.title('Confusion Matrix')\n",
    "plt.show()"
   ]
  },
  {
   "cell_type": "code",
   "execution_count": null,
   "id": "503a70a8",
   "metadata": {},
   "outputs": [],
   "source": []
  },
  {
   "cell_type": "markdown",
   "id": "f6d20965",
   "metadata": {},
   "source": [
    "Decision Trees"
   ]
  },
  {
   "cell_type": "code",
   "execution_count": 136,
   "id": "f388bccb",
   "metadata": {},
   "outputs": [
    {
     "data": {
      "text/plain": [
       "DecisionTreeClassifier()"
      ]
     },
     "execution_count": 136,
     "metadata": {},
     "output_type": "execute_result"
    }
   ],
   "source": [
    "tree_btw = DecisionTreeClassifier()\n",
    "tree_btw.fit(X_train_1, y_train_1)"
   ]
  },
  {
   "cell_type": "code",
   "execution_count": 137,
   "id": "702591a6",
   "metadata": {},
   "outputs": [],
   "source": [
    "y_pred_d1 = tree_btw.predict(X_test_1)"
   ]
  },
  {
   "cell_type": "code",
   "execution_count": 138,
   "id": "341e2a9d",
   "metadata": {},
   "outputs": [
    {
     "name": "stdout",
     "output_type": "stream",
     "text": [
      "Accuracy: 0.90\n"
     ]
    }
   ],
   "source": [
    "accuracy_btw5 = accuracy_score(y_test_1, y_pred_d1)\n",
    "print(f\"Accuracy: {accuracy_btw5:.2f}\")"
   ]
  },
  {
   "cell_type": "code",
   "execution_count": 139,
   "id": "ca724a35",
   "metadata": {
    "scrolled": true
   },
   "outputs": [
    {
     "name": "stdout",
     "output_type": "stream",
     "text": [
      "              precision    recall  f1-score   support\n",
      "\n",
      "           0       0.87      0.86      0.86       774\n",
      "           1       0.91      0.92      0.92      1228\n",
      "\n",
      "    accuracy                           0.90      2002\n",
      "   macro avg       0.89      0.89      0.89      2002\n",
      "weighted avg       0.90      0.90      0.90      2002\n",
      "\n"
     ]
    }
   ],
   "source": [
    "report = classification_report(y_test, y_pred_d1)\n",
    "print(report)"
   ]
  },
  {
   "cell_type": "code",
   "execution_count": 140,
   "id": "6ba32ab7",
   "metadata": {},
   "outputs": [
    {
     "data": {
      "image/png": "[encoded data removed]",
      "text/plain": [
       "<Figure size 576x432 with 1 Axes>"
      ]
     },
     "metadata": {
      "needs_background": "light"
     },
     "output_type": "display_data"
    }
   ],
   "source": [
    "conf_matrix = confusion_matrix(y_test, y_pred_d1)\n",
    "\n",
    "# Plotting the confusion matrix as a heatmap\n",
    "plt.figure(figsize=(8, 6))\n",
    "sns.heatmap(conf_matrix, annot=True, fmt=\"d\", cmap=\"Blues\", cbar=False)\n",
    "plt.xlabel('Predicted labels')\n",
    "plt.ylabel('True labels')\n",
    "plt.title('Confusion Matrix')\n",
    "plt.show()"
   ]
  },
  {
   "cell_type": "code",
   "execution_count": null,
   "id": "a5b0769f",
   "metadata": {},
   "outputs": [],
   "source": []
  },
  {
   "cell_type": "markdown",
   "id": "def8adb1",
   "metadata": {},
   "source": [
    "##### 2. BoW and Word2Vec"
   ]
  },
  {
   "cell_type": "code",
   "execution_count": 141,
   "id": "bf2fe293",
   "metadata": {},
   "outputs": [],
   "source": [
    "combined_features_2 = np.concatenate((x_bow, X_w2v), axis=1)"
   ]
  },
  {
   "cell_type": "code",
   "execution_count": 142,
   "id": "2fef8d30",
   "metadata": {},
   "outputs": [],
   "source": [
    "X_train_2, X_test_2, y_train_2, y_test_2 = train_test_split(combined_features_2, y_final, test_size=0.2, random_state=42, stratify = y_final)"
   ]
  },
  {
   "cell_type": "markdown",
   "id": "6f0da66c",
   "metadata": {},
   "source": [
    "Random Forest"
   ]
  },
  {
   "cell_type": "code",
   "execution_count": 143,
   "id": "63a78124",
   "metadata": {},
   "outputs": [
    {
     "data": {
      "text/plain": [
       "RandomForestClassifier()"
      ]
     },
     "execution_count": 143,
     "metadata": {},
     "output_type": "execute_result"
    }
   ],
   "source": [
    "rf_bw = RandomForestClassifier()\n",
    "rf_bw.fit(X_train_2, y_train_2)"
   ]
  },
  {
   "cell_type": "code",
   "execution_count": 144,
   "id": "2106b9ae",
   "metadata": {},
   "outputs": [],
   "source": [
    "y_pred_rf2 = rf_bw.predict(X_test_2)"
   ]
  },
  {
   "cell_type": "code",
   "execution_count": 145,
   "id": "8dc7b188",
   "metadata": {
    "scrolled": true
   },
   "outputs": [
    {
     "name": "stdout",
     "output_type": "stream",
     "text": [
      "Accuracy: 0.88\n"
     ]
    }
   ],
   "source": [
    "accuracy_bw1 = accuracy_score(y_test_2, y_pred_rf2)\n",
    "print(f\"Accuracy: {accuracy_bw1:.2f}\")"
   ]
  },
  {
   "cell_type": "code",
   "execution_count": 146,
   "id": "495c96d2",
   "metadata": {
    "scrolled": true
   },
   "outputs": [
    {
     "name": "stdout",
     "output_type": "stream",
     "text": [
      "              precision    recall  f1-score   support\n",
      "\n",
      "           0       0.83      0.85      0.84       774\n",
      "           1       0.90      0.89      0.90      1228\n",
      "\n",
      "    accuracy                           0.88      2002\n",
      "   macro avg       0.87      0.87      0.87      2002\n",
      "weighted avg       0.88      0.88      0.88      2002\n",
      "\n"
     ]
    }
   ],
   "source": [
    "report = classification_report(y_test, y_pred_rf2)\n",
    "print(report)"
   ]
  },
  {
   "cell_type": "code",
   "execution_count": 147,
   "id": "c7c294c4",
   "metadata": {},
   "outputs": [
    {
     "data": {
      "image/png": "[encoded data removed]",
      "text/plain": [
       "<Figure size 576x432 with 1 Axes>"
      ]
     },
     "metadata": {
      "needs_background": "light"
     },
     "output_type": "display_data"
    }
   ],
   "source": [
    "conf_matrix = confusion_matrix(y_test, y_pred_rf2)\n",
    "\n",
    "# Plotting the confusion matrix as a heatmap\n",
    "plt.figure(figsize=(8, 6))\n",
    "sns.heatmap(conf_matrix, annot=True, fmt=\"d\", cmap=\"Blues\", cbar=False)\n",
    "plt.xlabel('Predicted labels')\n",
    "plt.ylabel('True labels')\n",
    "plt.title('Confusion Matrix')\n",
    "plt.show()"
   ]
  },
  {
   "cell_type": "code",
   "execution_count": null,
   "id": "9a63177e",
   "metadata": {},
   "outputs": [],
   "source": []
  },
  {
   "cell_type": "markdown",
   "id": "3a5575e1",
   "metadata": {},
   "source": [
    "SVM"
   ]
  },
  {
   "cell_type": "code",
   "execution_count": 148,
   "id": "b69437b9",
   "metadata": {},
   "outputs": [
    {
     "data": {
      "text/plain": [
       "SVC(kernel='linear')"
      ]
     },
     "execution_count": 148,
     "metadata": {},
     "output_type": "execute_result"
    }
   ],
   "source": [
    "svm_bw = SVC(kernel='linear')\n",
    "svm_bw.fit(X_train_2, y_train_2)"
   ]
  },
  {
   "cell_type": "code",
   "execution_count": 149,
   "id": "03acf641",
   "metadata": {},
   "outputs": [],
   "source": [
    "y_pred_s2 = svm_bw.predict(X_test_2)"
   ]
  },
  {
   "cell_type": "code",
   "execution_count": 150,
   "id": "51b6e080",
   "metadata": {
    "scrolled": true
   },
   "outputs": [
    {
     "name": "stdout",
     "output_type": "stream",
     "text": [
      "Accuracy: 0.89\n"
     ]
    }
   ],
   "source": [
    "accuracy_bw2 = accuracy_score(y_test_2, y_pred_s2)\n",
    "print(f\"Accuracy: {accuracy_bw2:.2f}\")"
   ]
  },
  {
   "cell_type": "code",
   "execution_count": 151,
   "id": "94fe042e",
   "metadata": {
    "scrolled": true
   },
   "outputs": [
    {
     "name": "stdout",
     "output_type": "stream",
     "text": [
      "              precision    recall  f1-score   support\n",
      "\n",
      "           0       0.84      0.87      0.85       774\n",
      "           1       0.91      0.90      0.91      1228\n",
      "\n",
      "    accuracy                           0.89      2002\n",
      "   macro avg       0.88      0.88      0.88      2002\n",
      "weighted avg       0.89      0.89      0.89      2002\n",
      "\n"
     ]
    }
   ],
   "source": [
    "report = classification_report(y_test, y_pred_s2)\n",
    "print(report)"
   ]
  },
  {
   "cell_type": "code",
   "execution_count": 152,
   "id": "3ff37999",
   "metadata": {},
   "outputs": [
    {
     "data": {
      "image/png": "[encoded data removed]",
      "text/plain": [
       "<Figure size 576x432 with 1 Axes>"
      ]
     },
     "metadata": {
      "needs_background": "light"
     },
     "output_type": "display_data"
    }
   ],
   "source": [
    "conf_matrix = confusion_matrix(y_test, y_pred_s2)\n",
    "\n",
    "# Plotting the confusion matrix as a heatmap\n",
    "plt.figure(figsize=(8, 6))\n",
    "sns.heatmap(conf_matrix, annot=True, fmt=\"d\", cmap=\"Blues\", cbar=False)\n",
    "plt.xlabel('Predicted labels')\n",
    "plt.ylabel('True labels')\n",
    "plt.title('Confusion Matrix')\n",
    "plt.show()"
   ]
  },
  {
   "cell_type": "code",
   "execution_count": null,
   "id": "82e71a6d",
   "metadata": {},
   "outputs": [],
   "source": []
  },
  {
   "cell_type": "markdown",
   "id": "3af6bf6e",
   "metadata": {},
   "source": [
    "KNN"
   ]
  },
  {
   "cell_type": "code",
   "execution_count": 153,
   "id": "d7cda22b",
   "metadata": {},
   "outputs": [
    {
     "data": {
      "text/plain": [
       "KNeighborsClassifier(n_neighbors=40)"
      ]
     },
     "execution_count": 153,
     "metadata": {},
     "output_type": "execute_result"
    }
   ],
   "source": [
    "knn_bw = KNeighborsClassifier(n_neighbors=40)\n",
    "knn_bw.fit(X_train_2, y_train_2)"
   ]
  },
  {
   "cell_type": "code",
   "execution_count": 154,
   "id": "3990647b",
   "metadata": {},
   "outputs": [
    {
     "name": "stderr",
     "output_type": "stream",
     "text": [
      "c:\\Users\\hp\\anaconda3\\lib\\site-packages\\sklearn\\neighbors\\_classification.py:228: FutureWarning: Unlike other reduction functions (e.g. `skew`, `kurtosis`), the default behavior of `mode` typically preserves the axis it acts along. In SciPy 1.11.0, this behavior will change: the default value of `keepdims` will become False, the `axis` over which the statistic is taken will be eliminated, and the value None will no longer be accepted. Set `keepdims` to True or False to avoid this warning.\n",
      "  mode, _ = stats.mode(_y[neigh_ind, k], axis=1)\n"
     ]
    }
   ],
   "source": [
    "y_pred_k2 = knn_bw.predict(X_test_2)"
   ]
  },
  {
   "cell_type": "code",
   "execution_count": 155,
   "id": "05c5a1a3",
   "metadata": {
    "scrolled": true
   },
   "outputs": [
    {
     "name": "stdout",
     "output_type": "stream",
     "text": [
      "Accuracy: 0.77\n"
     ]
    }
   ],
   "source": [
    "accuracy_bw3 = accuracy_score(y_test_2, y_pred_k2)\n",
    "print(f\"Accuracy: {accuracy_bw3:.2f}\")"
   ]
  },
  {
   "cell_type": "code",
   "execution_count": 156,
   "id": "d4066350",
   "metadata": {
    "scrolled": true
   },
   "outputs": [
    {
     "name": "stdout",
     "output_type": "stream",
     "text": [
      "              precision    recall  f1-score   support\n",
      "\n",
      "           0       0.63      0.96      0.76       774\n",
      "           1       0.96      0.65      0.78      1228\n",
      "\n",
      "    accuracy                           0.77      2002\n",
      "   macro avg       0.80      0.81      0.77      2002\n",
      "weighted avg       0.84      0.77      0.77      2002\n",
      "\n"
     ]
    }
   ],
   "source": [
    "report = classification_report(y_test, y_pred_k2)\n",
    "print(report)"
   ]
  },
  {
   "cell_type": "code",
   "execution_count": 157,
   "id": "29ec25c9",
   "metadata": {},
   "outputs": [
    {
     "data": {
      "image/png": "[encoded data removed]",
      "text/plain": [
       "<Figure size 576x432 with 1 Axes>"
      ]
     },
     "metadata": {
      "needs_background": "light"
     },
     "output_type": "display_data"
    }
   ],
   "source": [
    "conf_matrix = confusion_matrix(y_test, y_pred_k2)\n",
    "\n",
    "# Plotting the confusion matrix as a heatmap\n",
    "plt.figure(figsize=(8, 6))\n",
    "sns.heatmap(conf_matrix, annot=True, fmt=\"d\", cmap=\"Blues\", cbar=False)\n",
    "plt.xlabel('Predicted labels')\n",
    "plt.ylabel('True labels')\n",
    "plt.title('Confusion Matrix')\n",
    "plt.show()"
   ]
  },
  {
   "cell_type": "code",
   "execution_count": null,
   "id": "361ca1dd",
   "metadata": {},
   "outputs": [],
   "source": []
  },
  {
   "cell_type": "markdown",
   "id": "4a59fce5",
   "metadata": {},
   "source": [
    "Naive Bayes"
   ]
  },
  {
   "cell_type": "code",
   "execution_count": 158,
   "id": "38d79b4c",
   "metadata": {},
   "outputs": [
    {
     "data": {
      "text/plain": [
       "BernoulliNB()"
      ]
     },
     "execution_count": 158,
     "metadata": {},
     "output_type": "execute_result"
    }
   ],
   "source": [
    "nb_bw = BernoulliNB()\n",
    "nb_bw.fit(X_train_2, y_train_2)"
   ]
  },
  {
   "cell_type": "code",
   "execution_count": 159,
   "id": "f481d260",
   "metadata": {},
   "outputs": [],
   "source": [
    "y_pred_n2 = nb_bw.predict(X_test_2)"
   ]
  },
  {
   "cell_type": "code",
   "execution_count": 160,
   "id": "b18e0f66",
   "metadata": {},
   "outputs": [
    {
     "name": "stdout",
     "output_type": "stream",
     "text": [
      "Accuracy: 0.64\n"
     ]
    }
   ],
   "source": [
    "accuracy_bw4 = accuracy_score(y_test_2, y_pred_n2)\n",
    "print(f\"Accuracy: {accuracy_bw4:.2f}\")"
   ]
  },
  {
   "cell_type": "code",
   "execution_count": 161,
   "id": "fffe3e33",
   "metadata": {
    "scrolled": true
   },
   "outputs": [
    {
     "name": "stdout",
     "output_type": "stream",
     "text": [
      "              precision    recall  f1-score   support\n",
      "\n",
      "           0       0.53      0.72      0.61       774\n",
      "           1       0.77      0.59      0.67      1228\n",
      "\n",
      "    accuracy                           0.64      2002\n",
      "   macro avg       0.65      0.66      0.64      2002\n",
      "weighted avg       0.68      0.64      0.65      2002\n",
      "\n"
     ]
    }
   ],
   "source": [
    "report = classification_report(y_test, y_pred_n2)\n",
    "print(report)"
   ]
  },
  {
   "cell_type": "code",
   "execution_count": 162,
   "id": "2c07aac4",
   "metadata": {},
   "outputs": [
    {
     "data": {
      "image/png": "[encoded data removed]",
      "text/plain": [
       "<Figure size 576x432 with 1 Axes>"
      ]
     },
     "metadata": {
      "needs_background": "light"
     },
     "output_type": "display_data"
    }
   ],
   "source": [
    "conf_matrix = confusion_matrix(y_test, y_pred_n2)\n",
    "\n",
    "# Plotting the confusion matrix as a heatmap\n",
    "plt.figure(figsize=(8, 6))\n",
    "sns.heatmap(conf_matrix, annot=True, fmt=\"d\", cmap=\"Blues\", cbar=False)\n",
    "plt.xlabel('Predicted labels')\n",
    "plt.ylabel('True labels')\n",
    "plt.title('Confusion Matrix')\n",
    "plt.show()"
   ]
  },
  {
   "cell_type": "code",
   "execution_count": null,
   "id": "a3fd2af9",
   "metadata": {},
   "outputs": [],
   "source": []
  },
  {
   "cell_type": "markdown",
   "id": "9a0b1b41",
   "metadata": {},
   "source": [
    "Decision Trees"
   ]
  },
  {
   "cell_type": "code",
   "execution_count": 163,
   "id": "9756dc35",
   "metadata": {},
   "outputs": [
    {
     "data": {
      "text/plain": [
       "DecisionTreeClassifier()"
      ]
     },
     "execution_count": 163,
     "metadata": {},
     "output_type": "execute_result"
    }
   ],
   "source": [
    "tree_bw = DecisionTreeClassifier()\n",
    "tree_bw.fit(X_train_2, y_train_2)"
   ]
  },
  {
   "cell_type": "code",
   "execution_count": 164,
   "id": "b5c8a3ea",
   "metadata": {},
   "outputs": [],
   "source": [
    "y_pred_d2 = tree_bw.predict(X_test_2)"
   ]
  },
  {
   "cell_type": "code",
   "execution_count": 165,
   "id": "38468c15",
   "metadata": {
    "scrolled": true
   },
   "outputs": [
    {
     "name": "stdout",
     "output_type": "stream",
     "text": [
      "Accuracy: 0.89\n"
     ]
    }
   ],
   "source": [
    "accuracy_bw5 = accuracy_score(y_test_2, y_pred_d2)\n",
    "print(f\"Accuracy: {accuracy_bw5:.2f}\")"
   ]
  },
  {
   "cell_type": "code",
   "execution_count": 166,
   "id": "af02bc8a",
   "metadata": {
    "scrolled": true
   },
   "outputs": [
    {
     "name": "stdout",
     "output_type": "stream",
     "text": [
      "              precision    recall  f1-score   support\n",
      "\n",
      "           0       0.86      0.86      0.86       774\n",
      "           1       0.91      0.91      0.91      1228\n",
      "\n",
      "    accuracy                           0.89      2002\n",
      "   macro avg       0.88      0.88      0.88      2002\n",
      "weighted avg       0.89      0.89      0.89      2002\n",
      "\n"
     ]
    }
   ],
   "source": [
    "report = classification_report(y_test, y_pred_d2)\n",
    "print(report)"
   ]
  },
  {
   "cell_type": "code",
   "execution_count": 167,
   "id": "c826347e",
   "metadata": {},
   "outputs": [
    {
     "data": {
      "image/png": "[encoded data removed]",
      "text/plain": [
       "<Figure size 576x432 with 1 Axes>"
      ]
     },
     "metadata": {
      "needs_background": "light"
     },
     "output_type": "display_data"
    }
   ],
   "source": [
    "conf_matrix = confusion_matrix(y_test, y_pred_d2)\n",
    "\n",
    "# Plotting the confusion matrix as a heatmap\n",
    "plt.figure(figsize=(8, 6))\n",
    "sns.heatmap(conf_matrix, annot=True, fmt=\"d\", cmap=\"Blues\", cbar=False)\n",
    "plt.xlabel('Predicted labels')\n",
    "plt.ylabel('True labels')\n",
    "plt.title('Confusion Matrix')\n",
    "plt.show()"
   ]
  },
  {
   "cell_type": "code",
   "execution_count": null,
   "id": "dcf51cf7",
   "metadata": {},
   "outputs": [],
   "source": []
  },
  {
   "cell_type": "markdown",
   "id": "f5a4a5bc",
   "metadata": {},
   "source": [
    "##### 3. TFIDF + Word2Vec"
   ]
  },
  {
   "cell_type": "code",
   "execution_count": 168,
   "id": "7d4cf344",
   "metadata": {},
   "outputs": [],
   "source": [
    "combined_features_3 = np.concatenate((x_tfidf, X_w2v), axis=1)"
   ]
  },
  {
   "cell_type": "code",
   "execution_count": 169,
   "id": "ec966b92",
   "metadata": {},
   "outputs": [],
   "source": [
    "X_train_3, X_test_3, y_train_3, y_test_3 = train_test_split(combined_features_3, y_final, test_size=0.2, random_state=42, stratify = y_final)"
   ]
  },
  {
   "cell_type": "markdown",
   "id": "4d14713e",
   "metadata": {},
   "source": [
    "Random Forest"
   ]
  },
  {
   "cell_type": "code",
   "execution_count": 170,
   "id": "a66a5985",
   "metadata": {},
   "outputs": [
    {
     "data": {
      "text/plain": [
       "RandomForestClassifier()"
      ]
     },
     "execution_count": 170,
     "metadata": {},
     "output_type": "execute_result"
    }
   ],
   "source": [
    "rf_tw = RandomForestClassifier()\n",
    "rf_tw.fit(X_train_3, y_train_3)"
   ]
  },
  {
   "cell_type": "code",
   "execution_count": 171,
   "id": "de76f043",
   "metadata": {},
   "outputs": [],
   "source": [
    "y_pred_rf3 = rf_tw.predict(X_test_3)"
   ]
  },
  {
   "cell_type": "code",
   "execution_count": 172,
   "id": "5e5cf230",
   "metadata": {
    "scrolled": true
   },
   "outputs": [
    {
     "name": "stdout",
     "output_type": "stream",
     "text": [
      "Accuracy: 0.87\n"
     ]
    }
   ],
   "source": [
    "accuracy_tw1 = accuracy_score(y_test_3, y_pred_rf3)\n",
    "print(f\"Accuracy: {accuracy_tw1:.2f}\")"
   ]
  },
  {
   "cell_type": "code",
   "execution_count": 173,
   "id": "809c03df",
   "metadata": {
    "scrolled": true
   },
   "outputs": [
    {
     "name": "stdout",
     "output_type": "stream",
     "text": [
      "              precision    recall  f1-score   support\n",
      "\n",
      "           0       0.83      0.84      0.84       774\n",
      "           1       0.90      0.89      0.90      1228\n",
      "\n",
      "    accuracy                           0.87      2002\n",
      "   macro avg       0.87      0.87      0.87      2002\n",
      "weighted avg       0.87      0.87      0.87      2002\n",
      "\n"
     ]
    }
   ],
   "source": [
    "report = classification_report(y_test, y_pred_rf3)\n",
    "print(report)"
   ]
  },
  {
   "cell_type": "code",
   "execution_count": 174,
   "id": "0ad60d77",
   "metadata": {},
   "outputs": [
    {
     "data": {
      "image/png": "[encoded data removed]",
      "text/plain": [
       "<Figure size 576x432 with 1 Axes>"
      ]
     },
     "metadata": {
      "needs_background": "light"
     },
     "output_type": "display_data"
    }
   ],
   "source": [
    "conf_matrix = confusion_matrix(y_test, y_pred_rf3)\n",
    "\n",
    "# Plotting the confusion matrix as a heatmap\n",
    "plt.figure(figsize=(8, 6))\n",
    "sns.heatmap(conf_matrix, annot=True, fmt=\"d\", cmap=\"Blues\", cbar=False)\n",
    "plt.xlabel('Predicted labels')\n",
    "plt.ylabel('True labels')\n",
    "plt.title('Confusion Matrix')\n",
    "plt.show()"
   ]
  },
  {
   "cell_type": "code",
   "execution_count": null,
   "id": "f15f90c0",
   "metadata": {},
   "outputs": [],
   "source": []
  },
  {
   "cell_type": "markdown",
   "id": "420820b5",
   "metadata": {},
   "source": [
    "SVM"
   ]
  },
  {
   "cell_type": "code",
   "execution_count": 175,
   "id": "1f8453c2",
   "metadata": {},
   "outputs": [
    {
     "data": {
      "text/plain": [
       "SVC(kernel='linear')"
      ]
     },
     "execution_count": 175,
     "metadata": {},
     "output_type": "execute_result"
    }
   ],
   "source": [
    "svm_tw = SVC(kernel='linear')\n",
    "svm_tw.fit(X_train_3, y_train_3)"
   ]
  },
  {
   "cell_type": "code",
   "execution_count": 176,
   "id": "a768b28c",
   "metadata": {},
   "outputs": [],
   "source": [
    "y_pred_s3 = svm_tw.predict(X_test_3)"
   ]
  },
  {
   "cell_type": "code",
   "execution_count": 177,
   "id": "d81d042f",
   "metadata": {
    "scrolled": true
   },
   "outputs": [
    {
     "name": "stdout",
     "output_type": "stream",
     "text": [
      "Accuracy: 0.86\n"
     ]
    }
   ],
   "source": [
    "accuracy_tw2 = accuracy_score(y_test_3, y_pred_s3)\n",
    "print(f\"Accuracy: {accuracy_tw2:.2f}\")"
   ]
  },
  {
   "cell_type": "code",
   "execution_count": 178,
   "id": "f83c69c6",
   "metadata": {
    "scrolled": true
   },
   "outputs": [
    {
     "name": "stdout",
     "output_type": "stream",
     "text": [
      "              precision    recall  f1-score   support\n",
      "\n",
      "           0       0.81      0.84      0.82       774\n",
      "           1       0.90      0.87      0.89      1228\n",
      "\n",
      "    accuracy                           0.86      2002\n",
      "   macro avg       0.85      0.86      0.85      2002\n",
      "weighted avg       0.86      0.86      0.86      2002\n",
      "\n"
     ]
    }
   ],
   "source": [
    "report = classification_report(y_test, y_pred_s3)\n",
    "print(report)"
   ]
  },
  {
   "cell_type": "code",
   "execution_count": 179,
   "id": "ea6c08de",
   "metadata": {},
   "outputs": [
    {
     "data": {
      "image/png": "[encoded data removed]",
      "text/plain": [
       "<Figure size 576x432 with 1 Axes>"
      ]
     },
     "metadata": {
      "needs_background": "light"
     },
     "output_type": "display_data"
    }
   ],
   "source": [
    "conf_matrix = confusion_matrix(y_test, y_pred_s3)\n",
    "\n",
    "# Plotting the confusion matrix as a heatmap\n",
    "plt.figure(figsize=(8, 6))\n",
    "sns.heatmap(conf_matrix, annot=True, fmt=\"d\", cmap=\"Blues\", cbar=False)\n",
    "plt.xlabel('Predicted labels')\n",
    "plt.ylabel('True labels')\n",
    "plt.title('Confusion Matrix')\n",
    "plt.show()"
   ]
  },
  {
   "cell_type": "code",
   "execution_count": null,
   "id": "7d892aed",
   "metadata": {},
   "outputs": [],
   "source": []
  },
  {
   "cell_type": "markdown",
   "id": "eb676e2a",
   "metadata": {},
   "source": [
    "KNN"
   ]
  },
  {
   "cell_type": "code",
   "execution_count": 180,
   "id": "fffaa4b4",
   "metadata": {},
   "outputs": [
    {
     "data": {
      "text/plain": [
       "KNeighborsClassifier(n_neighbors=40)"
      ]
     },
     "execution_count": 180,
     "metadata": {},
     "output_type": "execute_result"
    }
   ],
   "source": [
    "knn_tw = KNeighborsClassifier(n_neighbors=40)\n",
    "knn_tw.fit(X_train_3, y_train_3)"
   ]
  },
  {
   "cell_type": "code",
   "execution_count": 181,
   "id": "9f2fccf3",
   "metadata": {},
   "outputs": [
    {
     "name": "stderr",
     "output_type": "stream",
     "text": [
      "c:\\Users\\hp\\anaconda3\\lib\\site-packages\\sklearn\\neighbors\\_classification.py:228: FutureWarning: Unlike other reduction functions (e.g. `skew`, `kurtosis`), the default behavior of `mode` typically preserves the axis it acts along. In SciPy 1.11.0, this behavior will change: the default value of `keepdims` will become False, the `axis` over which the statistic is taken will be eliminated, and the value None will no longer be accepted. Set `keepdims` to True or False to avoid this warning.\n",
      "  mode, _ = stats.mode(_y[neigh_ind, k], axis=1)\n"
     ]
    }
   ],
   "source": [
    "y_pred_k3 = knn_tw.predict(X_test_3)"
   ]
  },
  {
   "cell_type": "code",
   "execution_count": 182,
   "id": "3a15849b",
   "metadata": {},
   "outputs": [
    {
     "name": "stdout",
     "output_type": "stream",
     "text": [
      "Accuracy: 0.68\n"
     ]
    }
   ],
   "source": [
    "accuracy_tw3 = accuracy_score(y_test_3, y_pred_k3)\n",
    "print(f\"Accuracy: {accuracy_tw3:.2f}\")"
   ]
  },
  {
   "cell_type": "code",
   "execution_count": 183,
   "id": "5a6a8b60",
   "metadata": {
    "scrolled": true
   },
   "outputs": [
    {
     "name": "stdout",
     "output_type": "stream",
     "text": [
      "              precision    recall  f1-score   support\n",
      "\n",
      "           0       0.55      0.95      0.69       774\n",
      "           1       0.94      0.50      0.66      1228\n",
      "\n",
      "    accuracy                           0.68      2002\n",
      "   macro avg       0.74      0.73      0.67      2002\n",
      "weighted avg       0.79      0.68      0.67      2002\n",
      "\n"
     ]
    }
   ],
   "source": [
    "report = classification_report(y_test, y_pred_k3)\n",
    "print(report)"
   ]
  },
  {
   "cell_type": "code",
   "execution_count": 184,
   "id": "3557d8fe",
   "metadata": {},
   "outputs": [
    {
     "data": {
      "image/png": "[encoded data removed]",
      "text/plain": [
       "<Figure size 576x432 with 1 Axes>"
      ]
     },
     "metadata": {
      "needs_background": "light"
     },
     "output_type": "display_data"
    }
   ],
   "source": [
    "conf_matrix = confusion_matrix(y_test, y_pred_k3)\n",
    "\n",
    "# Plotting the confusion matrix as a heatmap\n",
    "plt.figure(figsize=(8, 6))\n",
    "sns.heatmap(conf_matrix, annot=True, fmt=\"d\", cmap=\"Blues\", cbar=False)\n",
    "plt.xlabel('Predicted labels')\n",
    "plt.ylabel('True labels')\n",
    "plt.title('Confusion Matrix')\n",
    "plt.show()"
   ]
  },
  {
   "cell_type": "code",
   "execution_count": null,
   "id": "eea3b4c5",
   "metadata": {},
   "outputs": [],
   "source": []
  },
  {
   "cell_type": "markdown",
   "id": "77bad835",
   "metadata": {},
   "source": [
    "Naive Bayes"
   ]
  },
  {
   "cell_type": "code",
   "execution_count": 185,
   "id": "ad3e9128",
   "metadata": {},
   "outputs": [
    {
     "data": {
      "text/plain": [
       "BernoulliNB()"
      ]
     },
     "execution_count": 185,
     "metadata": {},
     "output_type": "execute_result"
    }
   ],
   "source": [
    "nb_tw = BernoulliNB()\n",
    "nb_tw.fit(X_train_3, y_train_3)"
   ]
  },
  {
   "cell_type": "code",
   "execution_count": 186,
   "id": "25b8c939",
   "metadata": {},
   "outputs": [],
   "source": [
    "y_pred_n3 = nb_tw.predict(X_test_3)"
   ]
  },
  {
   "cell_type": "code",
   "execution_count": 187,
   "id": "04bd37fa",
   "metadata": {
    "scrolled": true
   },
   "outputs": [
    {
     "name": "stdout",
     "output_type": "stream",
     "text": [
      "Accuracy: 0.64\n"
     ]
    }
   ],
   "source": [
    "accuracy_tw4 = accuracy_score(y_test_3, y_pred_n3)\n",
    "print(f\"Accuracy: {accuracy_tw4:.2f}\")"
   ]
  },
  {
   "cell_type": "code",
   "execution_count": 188,
   "id": "054fd720",
   "metadata": {
    "scrolled": true
   },
   "outputs": [
    {
     "name": "stdout",
     "output_type": "stream",
     "text": [
      "              precision    recall  f1-score   support\n",
      "\n",
      "           0       0.53      0.72      0.61       774\n",
      "           1       0.77      0.59      0.67      1228\n",
      "\n",
      "    accuracy                           0.64      2002\n",
      "   macro avg       0.65      0.66      0.64      2002\n",
      "weighted avg       0.68      0.64      0.65      2002\n",
      "\n"
     ]
    }
   ],
   "source": [
    "report = classification_report(y_test, y_pred_n3)\n",
    "print(report)"
   ]
  },
  {
   "cell_type": "code",
   "execution_count": 189,
   "id": "88027cba",
   "metadata": {},
   "outputs": [
    {
     "data": {
      "image/png": "[encoded data removed]",
      "text/plain": [
       "<Figure size 576x432 with 1 Axes>"
      ]
     },
     "metadata": {
      "needs_background": "light"
     },
     "output_type": "display_data"
    }
   ],
   "source": [
    "conf_matrix = confusion_matrix(y_test, y_pred_n3)\n",
    "\n",
    "# Plotting the confusion matrix as a heatmap\n",
    "plt.figure(figsize=(8, 6))\n",
    "sns.heatmap(conf_matrix, annot=True, fmt=\"d\", cmap=\"Blues\", cbar=False)\n",
    "plt.xlabel('Predicted labels')\n",
    "plt.ylabel('True labels')\n",
    "plt.title('Confusion Matrix')\n",
    "plt.show()"
   ]
  },
  {
   "cell_type": "code",
   "execution_count": null,
   "id": "0c297a70",
   "metadata": {},
   "outputs": [],
   "source": []
  },
  {
   "cell_type": "markdown",
   "id": "a93ef776",
   "metadata": {},
   "source": [
    "Decision Trees"
   ]
  },
  {
   "cell_type": "code",
   "execution_count": 190,
   "id": "35d7bdb1",
   "metadata": {},
   "outputs": [
    {
     "data": {
      "text/plain": [
       "DecisionTreeClassifier()"
      ]
     },
     "execution_count": 190,
     "metadata": {},
     "output_type": "execute_result"
    }
   ],
   "source": [
    "tree_tw = DecisionTreeClassifier()\n",
    "tree_tw.fit(X_train_3, y_train_3)"
   ]
  },
  {
   "cell_type": "code",
   "execution_count": 191,
   "id": "98c177a1",
   "metadata": {},
   "outputs": [],
   "source": [
    "y_pred_d3 = tree_tw.predict(X_test_3)"
   ]
  },
  {
   "cell_type": "code",
   "execution_count": 192,
   "id": "c4cecd3d",
   "metadata": {},
   "outputs": [
    {
     "name": "stdout",
     "output_type": "stream",
     "text": [
      "Accuracy: 0.90\n"
     ]
    }
   ],
   "source": [
    "accuracy_tw5 = accuracy_score(y_test_3, y_pred_d3)\n",
    "print(f\"Accuracy: {accuracy_tw5:.2f}\")"
   ]
  },
  {
   "cell_type": "code",
   "execution_count": 193,
   "id": "4ff045df",
   "metadata": {
    "scrolled": true
   },
   "outputs": [
    {
     "name": "stdout",
     "output_type": "stream",
     "text": [
      "              precision    recall  f1-score   support\n",
      "\n",
      "           0       0.88      0.87      0.87       774\n",
      "           1       0.92      0.93      0.92      1228\n",
      "\n",
      "    accuracy                           0.90      2002\n",
      "   macro avg       0.90      0.90      0.90      2002\n",
      "weighted avg       0.90      0.90      0.90      2002\n",
      "\n"
     ]
    }
   ],
   "source": [
    "report = classification_report(y_test, y_pred_d3)\n",
    "print(report)"
   ]
  },
  {
   "cell_type": "code",
   "execution_count": 194,
   "id": "903c34ed",
   "metadata": {},
   "outputs": [
    {
     "data": {
      "image/png": "[encoded data removed]",
      "text/plain": [
       "<Figure size 576x432 with 1 Axes>"
      ]
     },
     "metadata": {
      "needs_background": "light"
     },
     "output_type": "display_data"
    }
   ],
   "source": [
    "conf_matrix = confusion_matrix(y_test, y_pred_d3)\n",
    "\n",
    "# Plotting the confusion matrix as a heatmap\n",
    "plt.figure(figsize=(8, 6))\n",
    "sns.heatmap(conf_matrix, annot=True, fmt=\"d\", cmap=\"Blues\", cbar=False)\n",
    "plt.xlabel('Predicted labels')\n",
    "plt.ylabel('True labels')\n",
    "plt.title('Confusion Matrix')\n",
    "plt.show()"
   ]
  },
  {
   "cell_type": "code",
   "execution_count": null,
   "id": "9800b7ca",
   "metadata": {},
   "outputs": [],
   "source": []
  },
  {
   "cell_type": "markdown",
   "id": "12f4312b",
   "metadata": {},
   "source": [
    "##### 4. BoW + TFIDF"
   ]
  },
  {
   "cell_type": "code",
   "execution_count": 195,
   "id": "77567855",
   "metadata": {},
   "outputs": [],
   "source": [
    "combined_features_4 = np.concatenate((x_bow, x_tfidf), axis=1)"
   ]
  },
  {
   "cell_type": "code",
   "execution_count": 196,
   "id": "a1cb5ec2",
   "metadata": {},
   "outputs": [],
   "source": [
    "X_train_4, X_test_4, y_train_4, y_test_4 = train_test_split(combined_features_4, y_final, test_size=0.2, random_state=42, stratify = y_final)"
   ]
  },
  {
   "cell_type": "markdown",
   "id": "9449e5e9",
   "metadata": {},
   "source": [
    "Random Forest"
   ]
  },
  {
   "cell_type": "code",
   "execution_count": 197,
   "id": "0deb08e8",
   "metadata": {},
   "outputs": [
    {
     "data": {
      "text/plain": [
       "RandomForestClassifier()"
      ]
     },
     "execution_count": 197,
     "metadata": {},
     "output_type": "execute_result"
    }
   ],
   "source": [
    "rf_bt = RandomForestClassifier()\n",
    "rf_bt.fit(X_train_4, y_train_4)"
   ]
  },
  {
   "cell_type": "code",
   "execution_count": 198,
   "id": "752c908f",
   "metadata": {},
   "outputs": [],
   "source": [
    "y_pred_rf4 = rf_bt.predict(X_test_4)"
   ]
  },
  {
   "cell_type": "code",
   "execution_count": 199,
   "id": "41fa0faa",
   "metadata": {},
   "outputs": [
    {
     "name": "stdout",
     "output_type": "stream",
     "text": [
      "Accuracy: 0.93\n"
     ]
    }
   ],
   "source": [
    "accuracy_bt1 = accuracy_score(y_test_4, y_pred_rf4)\n",
    "print(f\"Accuracy: {accuracy_bt1:.2f}\")"
   ]
  },
  {
   "cell_type": "code",
   "execution_count": 200,
   "id": "279dba8e",
   "metadata": {
    "scrolled": true
   },
   "outputs": [
    {
     "name": "stdout",
     "output_type": "stream",
     "text": [
      "              precision    recall  f1-score   support\n",
      "\n",
      "           0       0.93      0.89      0.91       774\n",
      "           1       0.93      0.96      0.94      1228\n",
      "\n",
      "    accuracy                           0.93      2002\n",
      "   macro avg       0.93      0.92      0.93      2002\n",
      "weighted avg       0.93      0.93      0.93      2002\n",
      "\n"
     ]
    }
   ],
   "source": [
    "report = classification_report(y_test, y_pred_rf4)\n",
    "print(report)"
   ]
  },
  {
   "cell_type": "code",
   "execution_count": 201,
   "id": "2d198988",
   "metadata": {},
   "outputs": [
    {
     "data": {
      "image/png": "[encoded data removed]",
      "text/plain": [
       "<Figure size 576x432 with 1 Axes>"
      ]
     },
     "metadata": {
      "needs_background": "light"
     },
     "output_type": "display_data"
    }
   ],
   "source": [
    "conf_matrix = confusion_matrix(y_test, y_pred_rf4)\n",
    "\n",
    "# Plotting the confusion matrix as a heatmap\n",
    "plt.figure(figsize=(8, 6))\n",
    "sns.heatmap(conf_matrix, annot=True, fmt=\"d\", cmap=\"Blues\", cbar=False)\n",
    "plt.xlabel('Predicted labels')\n",
    "plt.ylabel('True labels')\n",
    "plt.title('Confusion Matrix')\n",
    "plt.show()"
   ]
  },
  {
   "cell_type": "code",
   "execution_count": null,
   "id": "8378901b",
   "metadata": {},
   "outputs": [],
   "source": []
  },
  {
   "cell_type": "markdown",
   "id": "5835165a",
   "metadata": {},
   "source": [
    "SVM"
   ]
  },
  {
   "cell_type": "code",
   "execution_count": 202,
   "id": "ac5498fc",
   "metadata": {},
   "outputs": [
    {
     "data": {
      "text/plain": [
       "SVC(kernel='linear')"
      ]
     },
     "execution_count": 202,
     "metadata": {},
     "output_type": "execute_result"
    }
   ],
   "source": [
    "svm_bt = SVC(kernel='linear')\n",
    "svm_bt.fit(X_train_4, y_train_4)"
   ]
  },
  {
   "cell_type": "code",
   "execution_count": 203,
   "id": "a8dcfa72",
   "metadata": {},
   "outputs": [],
   "source": [
    "y_pred_s4 = svm_bt.predict(X_test_4)"
   ]
  },
  {
   "cell_type": "code",
   "execution_count": 204,
   "id": "01f88fea",
   "metadata": {},
   "outputs": [
    {
     "name": "stdout",
     "output_type": "stream",
     "text": [
      "Accuracy: 0.91\n"
     ]
    }
   ],
   "source": [
    "accuracy_bt2 = accuracy_score(y_test_4, y_pred_s4)\n",
    "print(f\"Accuracy: {accuracy_bt2:.2f}\")"
   ]
  },
  {
   "cell_type": "code",
   "execution_count": 205,
   "id": "62a518a8",
   "metadata": {
    "scrolled": true
   },
   "outputs": [
    {
     "name": "stdout",
     "output_type": "stream",
     "text": [
      "              precision    recall  f1-score   support\n",
      "\n",
      "           0       0.90      0.88      0.89       774\n",
      "           1       0.92      0.94      0.93      1228\n",
      "\n",
      "    accuracy                           0.91      2002\n",
      "   macro avg       0.91      0.91      0.91      2002\n",
      "weighted avg       0.91      0.91      0.91      2002\n",
      "\n"
     ]
    }
   ],
   "source": [
    "report = classification_report(y_test, y_pred_s4)\n",
    "print(report)"
   ]
  },
  {
   "cell_type": "code",
   "execution_count": 206,
   "id": "174a9ef0",
   "metadata": {},
   "outputs": [
    {
     "data": {
      "image/png": "[encoded data removed]",
      "text/plain": [
       "<Figure size 576x432 with 1 Axes>"
      ]
     },
     "metadata": {
      "needs_background": "light"
     },
     "output_type": "display_data"
    }
   ],
   "source": [
    "conf_matrix = confusion_matrix(y_test, y_pred_s4)\n",
    "\n",
    "# Plotting the confusion matrix as a heatmap\n",
    "plt.figure(figsize=(8, 6))\n",
    "sns.heatmap(conf_matrix, annot=True, fmt=\"d\", cmap=\"Blues\", cbar=False)\n",
    "plt.xlabel('Predicted labels')\n",
    "plt.ylabel('True labels')\n",
    "plt.title('Confusion Matrix')\n",
    "plt.show()"
   ]
  },
  {
   "cell_type": "code",
   "execution_count": null,
   "id": "8e2cb07e",
   "metadata": {},
   "outputs": [],
   "source": []
  },
  {
   "cell_type": "markdown",
   "id": "da0b8b3c",
   "metadata": {},
   "source": [
    "KNN"
   ]
  },
  {
   "cell_type": "code",
   "execution_count": 207,
   "id": "3a21b1e2",
   "metadata": {},
   "outputs": [
    {
     "data": {
      "text/plain": [
       "KNeighborsClassifier(n_neighbors=40)"
      ]
     },
     "execution_count": 207,
     "metadata": {},
     "output_type": "execute_result"
    }
   ],
   "source": [
    "knn_bt = KNeighborsClassifier(n_neighbors=40)\n",
    "knn_bt.fit(X_train_4, y_train_4)"
   ]
  },
  {
   "cell_type": "code",
   "execution_count": 208,
   "id": "9d097dfe",
   "metadata": {},
   "outputs": [
    {
     "name": "stderr",
     "output_type": "stream",
     "text": [
      "c:\\Users\\hp\\anaconda3\\lib\\site-packages\\sklearn\\neighbors\\_classification.py:228: FutureWarning: Unlike other reduction functions (e.g. `skew`, `kurtosis`), the default behavior of `mode` typically preserves the axis it acts along. In SciPy 1.11.0, this behavior will change: the default value of `keepdims` will become False, the `axis` over which the statistic is taken will be eliminated, and the value None will no longer be accepted. Set `keepdims` to True or False to avoid this warning.\n",
      "  mode, _ = stats.mode(_y[neigh_ind, k], axis=1)\n"
     ]
    }
   ],
   "source": [
    "y_pred_k4 = knn_bt.predict(X_test_4)"
   ]
  },
  {
   "cell_type": "code",
   "execution_count": 209,
   "id": "053a27b9",
   "metadata": {
    "scrolled": true
   },
   "outputs": [
    {
     "name": "stdout",
     "output_type": "stream",
     "text": [
      "Accuracy: 0.90\n"
     ]
    }
   ],
   "source": [
    "accuracy_bt3 = accuracy_score(y_test_4, y_pred_k4)\n",
    "print(f\"Accuracy: {accuracy_bt3:.2f}\")"
   ]
  },
  {
   "cell_type": "code",
   "execution_count": 210,
   "id": "71c39348",
   "metadata": {
    "scrolled": true
   },
   "outputs": [
    {
     "name": "stdout",
     "output_type": "stream",
     "text": [
      "              precision    recall  f1-score   support\n",
      "\n",
      "           0       0.82      0.94      0.88       774\n",
      "           1       0.96      0.87      0.91      1228\n",
      "\n",
      "    accuracy                           0.90      2002\n",
      "   macro avg       0.89      0.91      0.90      2002\n",
      "weighted avg       0.91      0.90      0.90      2002\n",
      "\n"
     ]
    }
   ],
   "source": [
    "report = classification_report(y_test, y_pred_k4)\n",
    "print(report)"
   ]
  },
  {
   "cell_type": "code",
   "execution_count": 211,
   "id": "6bc88888",
   "metadata": {},
   "outputs": [
    {
     "data": {
      "image/png": "[encoded data removed]",
      "text/plain": [
       "<Figure size 576x432 with 1 Axes>"
      ]
     },
     "metadata": {
      "needs_background": "light"
     },
     "output_type": "display_data"
    }
   ],
   "source": [
    "conf_matrix = confusion_matrix(y_test, y_pred_k4)\n",
    "\n",
    "# Plotting the confusion matrix as a heatmap\n",
    "plt.figure(figsize=(8, 6))\n",
    "sns.heatmap(conf_matrix, annot=True, fmt=\"d\", cmap=\"Blues\", cbar=False)\n",
    "plt.xlabel('Predicted labels')\n",
    "plt.ylabel('True labels')\n",
    "plt.title('Confusion Matrix')\n",
    "plt.show()"
   ]
  },
  {
   "cell_type": "code",
   "execution_count": null,
   "id": "8c7eb982",
   "metadata": {},
   "outputs": [],
   "source": []
  },
  {
   "cell_type": "markdown",
   "id": "881240c4",
   "metadata": {},
   "source": [
    "Naive Bayes"
   ]
  },
  {
   "cell_type": "code",
   "execution_count": 212,
   "id": "f6cbac58",
   "metadata": {},
   "outputs": [
    {
     "data": {
      "text/plain": [
       "BernoulliNB()"
      ]
     },
     "execution_count": 212,
     "metadata": {},
     "output_type": "execute_result"
    }
   ],
   "source": [
    "nb_bt = BernoulliNB()\n",
    "nb_bt.fit(X_train_4, y_train_4)"
   ]
  },
  {
   "cell_type": "code",
   "execution_count": 213,
   "id": "295aa035",
   "metadata": {},
   "outputs": [],
   "source": [
    "y_pred_n4 = nb_bt.predict(X_test_4)"
   ]
  },
  {
   "cell_type": "code",
   "execution_count": 214,
   "id": "3c1d9d9f",
   "metadata": {
    "scrolled": true
   },
   "outputs": [
    {
     "name": "stdout",
     "output_type": "stream",
     "text": [
      "Accuracy: 0.90\n"
     ]
    }
   ],
   "source": [
    "accuracy_bt4 = accuracy_score(y_test_4, y_pred_n4)\n",
    "print(f\"Accuracy: {accuracy_bt4:.2f}\")"
   ]
  },
  {
   "cell_type": "code",
   "execution_count": 215,
   "id": "ef0ad468",
   "metadata": {
    "scrolled": true
   },
   "outputs": [
    {
     "name": "stdout",
     "output_type": "stream",
     "text": [
      "              precision    recall  f1-score   support\n",
      "\n",
      "           0       0.87      0.88      0.87       774\n",
      "           1       0.92      0.92      0.92      1228\n",
      "\n",
      "    accuracy                           0.90      2002\n",
      "   macro avg       0.89      0.90      0.90      2002\n",
      "weighted avg       0.90      0.90      0.90      2002\n",
      "\n"
     ]
    }
   ],
   "source": [
    "report = classification_report(y_test, y_pred_n4)\n",
    "print(report)"
   ]
  },
  {
   "cell_type": "code",
   "execution_count": 216,
   "id": "9b1e0c7b",
   "metadata": {},
   "outputs": [
    {
     "data": {
      "image/png": "[encoded data removed]",
      "text/plain": [
       "<Figure size 576x432 with 1 Axes>"
      ]
     },
     "metadata": {
      "needs_background": "light"
     },
     "output_type": "display_data"
    }
   ],
   "source": [
    "conf_matrix = confusion_matrix(y_test, y_pred_n4)\n",
    "\n",
    "# Plotting the confusion matrix as a heatmap\n",
    "plt.figure(figsize=(8, 6))\n",
    "sns.heatmap(conf_matrix, annot=True, fmt=\"d\", cmap=\"Blues\", cbar=False)\n",
    "plt.xlabel('Predicted labels')\n",
    "plt.ylabel('True labels')\n",
    "plt.title('Confusion Matrix')\n",
    "plt.show()"
   ]
  },
  {
   "cell_type": "code",
   "execution_count": null,
   "id": "db34403e",
   "metadata": {},
   "outputs": [],
   "source": []
  },
  {
   "cell_type": "markdown",
   "id": "1a6d403b",
   "metadata": {},
   "source": [
    "Decision Trees"
   ]
  },
  {
   "cell_type": "code",
   "execution_count": 217,
   "id": "82aee081",
   "metadata": {},
   "outputs": [
    {
     "data": {
      "text/plain": [
       "DecisionTreeClassifier()"
      ]
     },
     "execution_count": 217,
     "metadata": {},
     "output_type": "execute_result"
    }
   ],
   "source": [
    "tree_bt = DecisionTreeClassifier()\n",
    "tree_bt.fit(X_train_4, y_train_4)"
   ]
  },
  {
   "cell_type": "code",
   "execution_count": 218,
   "id": "2baf8631",
   "metadata": {},
   "outputs": [],
   "source": [
    "y_pred_d4 = tree_bt.predict(X_test_4)"
   ]
  },
  {
   "cell_type": "code",
   "execution_count": 219,
   "id": "96c68e6c",
   "metadata": {},
   "outputs": [
    {
     "name": "stdout",
     "output_type": "stream",
     "text": [
      "Accuracy: 0.91\n"
     ]
    }
   ],
   "source": [
    "accuracy_bt5 = accuracy_score(y_test_4, y_pred_d4)\n",
    "print(f\"Accuracy: {accuracy_bt5:.2f}\")"
   ]
  },
  {
   "cell_type": "code",
   "execution_count": 220,
   "id": "d31cce2e",
   "metadata": {
    "scrolled": true
   },
   "outputs": [
    {
     "name": "stdout",
     "output_type": "stream",
     "text": [
      "              precision    recall  f1-score   support\n",
      "\n",
      "           0       0.89      0.88      0.88       774\n",
      "           1       0.92      0.93      0.93      1228\n",
      "\n",
      "    accuracy                           0.91      2002\n",
      "   macro avg       0.91      0.90      0.90      2002\n",
      "weighted avg       0.91      0.91      0.91      2002\n",
      "\n"
     ]
    }
   ],
   "source": [
    "report = classification_report(y_test, y_pred_d4)\n",
    "print(report)"
   ]
  },
  {
   "cell_type": "code",
   "execution_count": 221,
   "id": "519dc4cf",
   "metadata": {},
   "outputs": [
    {
     "data": {
      "image/png": "[encoded data removed]",
      "text/plain": [
       "<Figure size 576x432 with 1 Axes>"
      ]
     },
     "metadata": {
      "needs_background": "light"
     },
     "output_type": "display_data"
    }
   ],
   "source": [
    "conf_matrix = confusion_matrix(y_test, y_pred_d4)\n",
    "\n",
    "# Plotting the confusion matrix as a heatmap\n",
    "plt.figure(figsize=(8, 6))\n",
    "sns.heatmap(conf_matrix, annot=True, fmt=\"d\", cmap=\"Blues\", cbar=False)\n",
    "plt.xlabel('Predicted labels')\n",
    "plt.ylabel('True labels')\n",
    "plt.title('Confusion Matrix')\n",
    "plt.show()"
   ]
  },
  {
   "cell_type": "code",
   "execution_count": null,
   "id": "a6821ed2",
   "metadata": {},
   "outputs": [],
   "source": []
  },
  {
   "cell_type": "code",
   "execution_count": 222,
   "id": "8b0443ec",
   "metadata": {},
   "outputs": [
    {
     "data": {
      "text/plain": [
       "((8006, 22586), (2002, 22586), (8006,), (2002,))"
      ]
     },
     "execution_count": 222,
     "metadata": {},
     "output_type": "execute_result"
    }
   ],
   "source": [
    "X_train_1.shape,X_test_1.shape, y_train_1.shape, y_test_1.shape"
   ]
  },
  {
   "cell_type": "code",
   "execution_count": 223,
   "id": "50c00bdc",
   "metadata": {},
   "outputs": [
    {
     "data": {
      "text/plain": [
       "((8006, 13843), (2002, 13843), (8006,), (2002,))"
      ]
     },
     "execution_count": 223,
     "metadata": {},
     "output_type": "execute_result"
    }
   ],
   "source": [
    "X_train_2.shape,X_test_2.shape, y_train_2.shape, y_test_2.shape"
   ]
  },
  {
   "cell_type": "code",
   "execution_count": null,
   "id": "b871ba1f",
   "metadata": {},
   "outputs": [],
   "source": []
  },
  {
   "cell_type": "code",
   "execution_count": null,
   "id": "23cba08e",
   "metadata": {},
   "outputs": [],
   "source": []
  },
  {
   "cell_type": "markdown",
   "id": "1f5bf799",
   "metadata": {},
   "source": [
    "Majority Voting and Average Probabilities<br> 1. SVM"
   ]
  },
  {
   "cell_type": "code",
   "execution_count": 224,
   "id": "6155132b",
   "metadata": {},
   "outputs": [],
   "source": [
    "from scipy.stats import mode"
   ]
  },
  {
   "cell_type": "code",
   "execution_count": null,
   "id": "c958edda",
   "metadata": {},
   "outputs": [],
   "source": []
  },
  {
   "cell_type": "code",
   "execution_count": 225,
   "id": "1f3a0613",
   "metadata": {},
   "outputs": [],
   "source": [
    "encoder = LabelEncoder()\n",
    "y_test_1 = encoder.fit_transform(y_test_1)\n",
    "y_pred_s1 = encoder.fit_transform(y_pred_s1)\n",
    "y_pred_s2 = encoder.fit_transform(y_pred_s2)\n",
    "y_pred_s3 = encoder.fit_transform(y_pred_s3)\n",
    "y_pred_s4 = encoder.fit_transform(y_pred_s4)"
   ]
  },
  {
   "cell_type": "code",
   "execution_count": 226,
   "id": "9a4b0132",
   "metadata": {},
   "outputs": [
    {
     "data": {
      "text/plain": [
       "array([0, 0, 1, ..., 1, 0, 0], dtype=int64)"
      ]
     },
     "execution_count": 226,
     "metadata": {},
     "output_type": "execute_result"
    }
   ],
   "source": [
    "y_pred_s1"
   ]
  },
  {
   "cell_type": "code",
   "execution_count": 227,
   "id": "641eaaa5",
   "metadata": {},
   "outputs": [],
   "source": [
    "true_labels = y_test_1"
   ]
  },
  {
   "cell_type": "code",
   "execution_count": 228,
   "id": "f69f64cf",
   "metadata": {},
   "outputs": [
    {
     "name": "stdout",
     "output_type": "stream",
     "text": [
      "Majority Voting: 0.8936063936063936\n"
     ]
    },
    {
     "name": "stderr",
     "output_type": "stream",
     "text": [
      "C:\\Users\\hp\\AppData\\Local\\Temp\\ipykernel_45524\\2274256836.py:2: FutureWarning: Unlike other reduction functions (e.g. `skew`, `kurtosis`), the default behavior of `mode` typically preserves the axis it acts along. In SciPy 1.11.0, this behavior will change: the default value of `keepdims` will become False, the `axis` over which the statistic is taken will be eliminated, and the value None will no longer be accepted. Set `keepdims` to True or False to avoid this warning.\n",
      "  final_pred_majority_vote = mode(ensemble_predictions)[0][0]\n"
     ]
    }
   ],
   "source": [
    "ensemble_predictions = np.array([y_pred_s1, y_pred_s2, y_pred_s3, y_pred_s4])\n",
    "final_pred_majority_vote = mode(ensemble_predictions)[0][0]\n",
    "accuracy_majority_vote = accuracy_score(true_labels, final_pred_majority_vote)\n",
    "print('Majority Voting:', accuracy_majority_vote)"
   ]
  },
  {
   "cell_type": "code",
   "execution_count": 229,
   "id": "ad8106c1",
   "metadata": {},
   "outputs": [
    {
     "name": "stdout",
     "output_type": "stream",
     "text": [
      "0.8936063936063936\n"
     ]
    }
   ],
   "source": [
    "true_labels = y_test_1\n",
    "accuracy_majority_vote = accuracy_score(true_labels, final_pred_majority_vote)\n",
    "print(accuracy_majority_vote)"
   ]
  },
  {
   "cell_type": "markdown",
   "id": "9b52790b",
   "metadata": {},
   "source": [
    "2. KNN "
   ]
  },
  {
   "cell_type": "code",
   "execution_count": 230,
   "id": "a67a38cb",
   "metadata": {},
   "outputs": [],
   "source": [
    "true_labels=y_test_2"
   ]
  },
  {
   "cell_type": "code",
   "execution_count": 231,
   "id": "dec17e9b",
   "metadata": {},
   "outputs": [
    {
     "name": "stdout",
     "output_type": "stream",
     "text": [
      "0.7702297702297702\n"
     ]
    },
    {
     "name": "stderr",
     "output_type": "stream",
     "text": [
      "C:\\Users\\hp\\AppData\\Local\\Temp\\ipykernel_45524\\2129403561.py:2: FutureWarning: Unlike other reduction functions (e.g. `skew`, `kurtosis`), the default behavior of `mode` typically preserves the axis it acts along. In SciPy 1.11.0, this behavior will change: the default value of `keepdims` will become False, the `axis` over which the statistic is taken will be eliminated, and the value None will no longer be accepted. Set `keepdims` to True or False to avoid this warning.\n",
      "  final_pred_majority_vote = mode(ensemble_predictions)[0][0]\n"
     ]
    }
   ],
   "source": [
    "ensemble_predictions = np.array([y_pred_k1, y_pred_k2, y_pred_k3, y_pred_k4])\n",
    "final_pred_majority_vote = mode(ensemble_predictions)[0][0]\n",
    "accuracy_majority_vote = accuracy_score(true_labels, final_pred_majority_vote)\n",
    "print(accuracy_majority_vote)"
   ]
  },
  {
   "cell_type": "markdown",
   "id": "4c49a86a",
   "metadata": {},
   "source": [
    "3. Naive Bayes"
   ]
  },
  {
   "cell_type": "code",
   "execution_count": 232,
   "id": "4c8b80aa",
   "metadata": {},
   "outputs": [
    {
     "name": "stdout",
     "output_type": "stream",
     "text": [
      "0.6418581418581418\n"
     ]
    },
    {
     "name": "stderr",
     "output_type": "stream",
     "text": [
      "C:\\Users\\hp\\AppData\\Local\\Temp\\ipykernel_45524\\2369795659.py:2: FutureWarning: Unlike other reduction functions (e.g. `skew`, `kurtosis`), the default behavior of `mode` typically preserves the axis it acts along. In SciPy 1.11.0, this behavior will change: the default value of `keepdims` will become False, the `axis` over which the statistic is taken will be eliminated, and the value None will no longer be accepted. Set `keepdims` to True or False to avoid this warning.\n",
      "  final_pred_majority_vote = mode(ensemble_predictions)[0][0]\n"
     ]
    }
   ],
   "source": [
    "ensemble_predictions = np.array([y_pred_n1, y_pred_n2, y_pred_n3, y_pred_n4])\n",
    "final_pred_majority_vote = mode(ensemble_predictions)[0][0]\n",
    "accuracy_majority_vote = accuracy_score(true_labels, final_pred_majority_vote)\n",
    "print(accuracy_majority_vote)"
   ]
  },
  {
   "cell_type": "code",
   "execution_count": null,
   "id": "5fbfce29",
   "metadata": {},
   "outputs": [],
   "source": []
  },
  {
   "cell_type": "markdown",
   "id": "f0e8492b",
   "metadata": {},
   "source": [
    "4. Decision Trees"
   ]
  },
  {
   "cell_type": "code",
   "execution_count": 233,
   "id": "6dc632da",
   "metadata": {},
   "outputs": [
    {
     "name": "stdout",
     "output_type": "stream",
     "text": [
      "0.9075924075924076\n"
     ]
    },
    {
     "name": "stderr",
     "output_type": "stream",
     "text": [
      "C:\\Users\\hp\\AppData\\Local\\Temp\\ipykernel_45524\\3475381007.py:2: FutureWarning: Unlike other reduction functions (e.g. `skew`, `kurtosis`), the default behavior of `mode` typically preserves the axis it acts along. In SciPy 1.11.0, this behavior will change: the default value of `keepdims` will become False, the `axis` over which the statistic is taken will be eliminated, and the value None will no longer be accepted. Set `keepdims` to True or False to avoid this warning.\n",
      "  final_pred_majority_vote = mode(ensemble_predictions)[0][0]\n"
     ]
    }
   ],
   "source": [
    "ensemble_predictions = np.array([y_pred_d1, y_pred_d2, y_pred_d3, y_pred_d4])\n",
    "final_pred_majority_vote = mode(ensemble_predictions)[0][0]\n",
    "accuracy_majority_vote = accuracy_score(true_labels, final_pred_majority_vote)\n",
    "print(accuracy_majority_vote)"
   ]
  },
  {
   "cell_type": "markdown",
   "id": "47233560",
   "metadata": {},
   "source": [
    "5. Random Forest"
   ]
  },
  {
   "cell_type": "code",
   "execution_count": 234,
   "id": "93deec72",
   "metadata": {},
   "outputs": [
    {
     "name": "stderr",
     "output_type": "stream",
     "text": [
      "C:\\Users\\hp\\AppData\\Local\\Temp\\ipykernel_45524\\1642173690.py:2: FutureWarning: Unlike other reduction functions (e.g. `skew`, `kurtosis`), the default behavior of `mode` typically preserves the axis it acts along. In SciPy 1.11.0, this behavior will change: the default value of `keepdims` will become False, the `axis` over which the statistic is taken will be eliminated, and the value None will no longer be accepted. Set `keepdims` to True or False to avoid this warning.\n",
      "  final_pred_majority_vote = mode(ensemble_predictions)[0][0]\n"
     ]
    },
    {
     "name": "stdout",
     "output_type": "stream",
     "text": [
      "0.8946053946053946\n"
     ]
    }
   ],
   "source": [
    "ensemble_predictions = np.array([y_pred_rf1, y_pred_rf2, y_pred_rf3, y_pred_rf4])\n",
    "final_pred_majority_vote = mode(ensemble_predictions)[0][0]\n",
    "accuracy_majority_vote = accuracy_score(true_labels, final_pred_majority_vote)\n",
    "print(accuracy_majority_vote)"
   ]
  },
  {
   "cell_type": "code",
   "execution_count": null,
   "id": "50ad6486",
   "metadata": {},
   "outputs": [],
   "source": []
  },
  {
   "cell_type": "code",
   "execution_count": null,
   "id": "15f041fb",
   "metadata": {},
   "outputs": [],
   "source": []
  },
  {
   "cell_type": "markdown",
   "id": "f802f37d",
   "metadata": {},
   "source": [
    "Visualization"
   ]
  },
  {
   "cell_type": "code",
   "execution_count": 235,
   "id": "2800aab9",
   "metadata": {},
   "outputs": [
    {
     "data": {
      "image/png": "[encoded data removed]",
      "text/plain": [
       "<Figure size 576x432 with 1 Axes>"
      ]
     },
     "metadata": {
      "needs_background": "light"
     },
     "output_type": "display_data"
    }
   ],
   "source": [
    "labels = ['BoW', 'TF-IDF', 'Word2Vec']\n",
    "accuracies = [accuracy_b1, accuracy_t1, accuracy_w1]\n",
    "\n",
    "plt.figure(figsize=(8, 6))\n",
    "plt.bar(labels, accuracies, color='skyblue')\n",
    "plt.xlabel('Text Representations')\n",
    "plt.ylabel('Accuracy')\n",
    "plt.title('Accuracy of SVM Models using Different Representations')\n",
    "plt.ylim(0, 1)  # Set y-axis limit to 0-1 for accuracy\n",
    "plt.show()"
   ]
  },
  {
   "cell_type": "code",
   "execution_count": null,
   "id": "146c9e67",
   "metadata": {},
   "outputs": [],
   "source": []
  },
  {
   "cell_type": "code",
   "execution_count": null,
   "id": "65443a46",
   "metadata": {},
   "outputs": [],
   "source": []
  },
  {
   "cell_type": "code",
   "execution_count": 236,
   "id": "020a7571",
   "metadata": {},
   "outputs": [
    {
     "ename": "NameError",
     "evalue": "name 'accuracy_bow' is not defined",
     "output_type": "error",
     "traceback": [
      "\u001b[1;31m---------------------------------------------------------------------------\u001b[0m",
      "\u001b[1;31mNameError\u001b[0m                                 Traceback (most recent call last)",
      "\u001b[1;32mc:\\Users\\hp\\Jupyter Notebooks\\AML Project\\Classification (Sandy_Hurricane).ipynb Cell 338\u001b[0m line \u001b[0;36m<cell line: 1>\u001b[1;34m()\u001b[0m\n\u001b[1;32m----> <a href='vscode-notebook-cell:/c%3A/Users/hp/Jupyter%20Notebooks/AML%20Project/Classification%20%28Sandy_Hurricane%29.ipynb#Y661sZmlsZQ%3D%3D?line=0'>1</a>\u001b[0m accuracies \u001b[39m=\u001b[39m [accuracy_bow, accuracy_tfidf, accuracy_word2vec]\n\u001b[0;32m      <a href='vscode-notebook-cell:/c%3A/Users/hp/Jupyter%20Notebooks/AML%20Project/Classification%20%28Sandy_Hurricane%29.ipynb#Y661sZmlsZQ%3D%3D?line=1'>2</a>\u001b[0m f1_scores \u001b[39m=\u001b[39m [f1_bow, f1_tfidf, f1_word2vec]  \u001b[39m# Calculate F1 scores similarly\u001b[39;00m\n\u001b[0;32m      <a href='vscode-notebook-cell:/c%3A/Users/hp/Jupyter%20Notebooks/AML%20Project/Classification%20%28Sandy_Hurricane%29.ipynb#Y661sZmlsZQ%3D%3D?line=3'>4</a>\u001b[0m \u001b[39m# Plotting accuracy and F1 scores for comparison\u001b[39;00m\n",
      "\u001b[1;31mNameError\u001b[0m: name 'accuracy_bow' is not defined"
     ]
    }
   ],
   "source": [
    "accuracies = [accuracy_bow, accuracy_tfidf, accuracy_word2vec]\n",
    "f1_scores = [f1_bow, f1_tfidf, f1_word2vec]  # Calculate F1 scores similarly\n",
    "\n",
    "# Plotting accuracy and F1 scores for comparison\n",
    "labels = ['BoW', 'TF-IDF', 'Word2Vec']\n",
    "\n",
    "fig, ax1 = plt.subplots(figsize=(10, 6))\n",
    "\n",
    "ax1.bar(labels, accuracies, color='skyblue', label='Accuracy')\n",
    "ax1.set_ylabel('Accuracy', color='skyblue')\n",
    "ax1.tick_params('y', colors='skyblue')\n",
    "\n",
    "ax2 = ax1.twinx()\n",
    "ax2.plot(labels, f1_scores, color='orange', marker='o', label='F1 Score')\n",
    "ax2.set_ylabel('F1 Score', color='orange')\n",
    "ax2.tick_params('y', colors='orange')\n",
    "\n",
    "plt.title('Accuracy and F1 Score Comparison for SVM Models using Different Representations')\n",
    "plt.legend()\n",
    "plt.tight_layout()\n",
    "plt.show()"
   ]
  },
  {
   "cell_type": "code",
   "execution_count": null,
   "id": "72ecf95a",
   "metadata": {},
   "outputs": [],
   "source": []
  },
  {
   "cell_type": "markdown",
   "id": "86beea8e",
   "metadata": {},
   "source": [
    "<b>LSTM</b>"
   ]
  },
  {
   "cell_type": "code",
   "execution_count": null,
   "id": "6c919f95",
   "metadata": {},
   "outputs": [],
   "source": [
    "from keras.optimizers import Adam,SGD\n",
    "from tensorflow.keras import regularizers\n",
    "\n",
    "embedding_feature_vector = 200 # Since we used glove vector embedding of dim 200.\n",
    "model = Sequential()\n",
    "model.add(Embedding(vocab_size,embedding_feature_vector,input_length=max_length,weights = [word_vector_matrix], trainable = False))\n",
    "model.add(Dropout(0.35))\n",
    "model.add(LSTM(200))\n",
    "model.add(Dropout(0.35))\n",
    "model.add(Dense(32,activation='relu'))\n",
    "model.add(Dense(1,activation='sigmoid'))\n",
    "model.compile(loss='binary_crossentropy',optimizer=Adam(lr=1e-4),metrics=['accuracy'])\n",
    "print(model.summary())"
   ]
  }
 ],
 "metadata": {
  "kernelspec": {
   "display_name": "Python 3 (ipykernel)",
   "language": "python",
   "name": "python3"
  },
  "language_info": {
   "codemirror_mode": {
    "name": "ipython",
    "version": 3
   },
   "file_extension": ".py",
   "mimetype": "text/x-python",
   "name": "python",
   "nbconvert_exporter": "python",
   "pygments_lexer": "ipython3",
   "version": "3.9.12"
  }
 },
 "nbformat": 4,
 "nbformat_minor": 5
}
